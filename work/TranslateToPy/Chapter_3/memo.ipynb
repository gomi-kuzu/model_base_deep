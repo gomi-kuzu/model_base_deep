{
 "cells": [
  {
   "cell_type": "code",
   "execution_count": 3,
   "id": "f6d45ccc-6d0b-4f85-8361-dd53d3009fb5",
   "metadata": {},
   "outputs": [],
   "source": [
    "import numpy as np\n",
    "import jax\n",
    "import jax.numpy as jnp\n",
    "\n",
    "import pandas as pd\n",
    "import matplotlib.pyplot as plt\n",
    "from jax.example_libraries import optimizers\n",
    "import time\n",
    "from tqdm.notebook import trange"
   ]
  },
  {
   "cell_type": "code",
   "execution_count": 6,
   "id": "9c7d882e-8169-445e-bf51-0ff04e54b761",
   "metadata": {},
   "outputs": [
    {
     "data": {
      "application/vnd.jupyter.widget-view+json": {
       "model_id": "3e118ea92f4740f08b6053f119c096b8",
       "version_major": 2,
       "version_minor": 0
      },
      "text/plain": [
       "  0%|          | 0/10 [00:00<?, ?it/s]"
      ]
     },
     "metadata": {},
     "output_type": "display_data"
    },
    {
     "data": {
      "application/vnd.jupyter.widget-view+json": {
       "model_id": "",
       "version_major": 2,
       "version_minor": 0
      },
      "text/plain": [
       "  0%|          | 0/10 [00:00<?, ?it/s]"
      ]
     },
     "metadata": {},
     "output_type": "display_data"
    },
    {
     "data": {
      "application/vnd.jupyter.widget-view+json": {
       "model_id": "",
       "version_major": 2,
       "version_minor": 0
      },
      "text/plain": [
       "  0%|          | 0/10 [00:00<?, ?it/s]"
      ]
     },
     "metadata": {},
     "output_type": "display_data"
    },
    {
     "data": {
      "application/vnd.jupyter.widget-view+json": {
       "model_id": "",
       "version_major": 2,
       "version_minor": 0
      },
      "text/plain": [
       "  0%|          | 0/10 [00:00<?, ?it/s]"
      ]
     },
     "metadata": {},
     "output_type": "display_data"
    },
    {
     "data": {
      "application/vnd.jupyter.widget-view+json": {
       "model_id": "",
       "version_major": 2,
       "version_minor": 0
      },
      "text/plain": [
       "  0%|          | 0/10 [00:00<?, ?it/s]"
      ]
     },
     "metadata": {},
     "output_type": "display_data"
    },
    {
     "data": {
      "application/vnd.jupyter.widget-view+json": {
       "model_id": "",
       "version_major": 2,
       "version_minor": 0
      },
      "text/plain": [
       "  0%|          | 0/10 [00:00<?, ?it/s]"
      ]
     },
     "metadata": {},
     "output_type": "display_data"
    },
    {
     "data": {
      "application/vnd.jupyter.widget-view+json": {
       "model_id": "",
       "version_major": 2,
       "version_minor": 0
      },
      "text/plain": [
       "  0%|          | 0/10 [00:00<?, ?it/s]"
      ]
     },
     "metadata": {},
     "output_type": "display_data"
    },
    {
     "data": {
      "application/vnd.jupyter.widget-view+json": {
       "model_id": "",
       "version_major": 2,
       "version_minor": 0
      },
      "text/plain": [
       "  0%|          | 0/10 [00:00<?, ?it/s]"
      ]
     },
     "metadata": {},
     "output_type": "display_data"
    },
    {
     "data": {
      "application/vnd.jupyter.widget-view+json": {
       "model_id": "",
       "version_major": 2,
       "version_minor": 0
      },
      "text/plain": [
       "  0%|          | 0/10 [00:00<?, ?it/s]"
      ]
     },
     "metadata": {},
     "output_type": "display_data"
    },
    {
     "data": {
      "application/vnd.jupyter.widget-view+json": {
       "model_id": "",
       "version_major": 2,
       "version_minor": 0
      },
      "text/plain": [
       "  0%|          | 0/10 [00:00<?, ?it/s]"
      ]
     },
     "metadata": {},
     "output_type": "display_data"
    },
    {
     "data": {
      "application/vnd.jupyter.widget-view+json": {
       "model_id": "",
       "version_major": 2,
       "version_minor": 0
      },
      "text/plain": [
       "  0%|          | 0/10 [00:00<?, ?it/s]"
      ]
     },
     "metadata": {},
     "output_type": "display_data"
    }
   ],
   "source": [
    "for t in trange(10):\n",
    "    for i in trange(10, leave=False):\n",
    "        np.pi*np.pi\n",
    "        time.sleep(1/2**4)"
   ]
  },
  {
   "cell_type": "code",
   "execution_count": 47,
   "id": "d7cf4dfd-9f37-4011-9fe2-ffe77edad9d1",
   "metadata": {},
   "outputs": [],
   "source": [
    "rng = jax.random.PRNGKey(11)\n",
    "rng, subkey = jax.random.split(rng, num=2)\n",
    "m = 100\n",
    "a = jax.random.normal(subkey, (m,))\n",
    "n = 50\n",
    "d = 10"
   ]
  },
  {
   "cell_type": "code",
   "execution_count": 36,
   "id": "a3470e7b-584f-4b2e-bee0-f3fa85ba4d3d",
   "metadata": {},
   "outputs": [],
   "source": [
    "G = np.random.randn(d,d)\n",
    "\n",
    "def quad(x):\n",
    "    return x@G@x    "
   ]
  },
  {
   "cell_type": "code",
   "execution_count": 42,
   "id": "a85ff54c-5746-4fbb-87fb-6c708e18703c",
   "metadata": {},
   "outputs": [],
   "source": [
    "batch_q = jax.vmap(quad, in_axes=[-1])\n",
    "X = np.random.randn(d, n)\n",
    "Y = batch_q(X)"
   ]
  },
  {
   "cell_type": "code",
   "execution_count": 43,
   "id": "c329150f-cd00-468d-a1ce-32dae37bd3cb",
   "metadata": {},
   "outputs": [],
   "source": [
    "X = jnp.array(X)\n",
    "Y = jnp.array(Y)"
   ]
  },
  {
   "cell_type": "code",
   "execution_count": 40,
   "id": "60785e8c-1da3-4329-a55e-a4c477e05a1a",
   "metadata": {},
   "outputs": [
    {
     "data": {
      "text/plain": [
       "Array([ -4.712147  ,  17.867653  , -22.900797  , -16.923462  ,\n",
       "        10.101318  , -11.320022  ,   6.890511  ,   2.5367997 ,\n",
       "         0.2466227 ,   6.481963  ,  12.5325365 ,   0.41317067,\n",
       "         0.34720796,  -3.6005785 ,  14.851715  ,  -6.9464664 ,\n",
       "        -3.0374944 ,  -0.9260463 ,  -1.1474534 ,  17.797388  ,\n",
       "        -5.7195034 , -13.942474  ,  -4.633703  ,  -3.6097484 ,\n",
       "       -12.885482  ,  -0.46080026,   3.885917  ,  -3.8210855 ,\n",
       "         6.560932  ,  -3.950319  ,  -5.3166738 ,   5.7821546 ,\n",
       "         0.83971345,   0.52241   ,   0.21822219,  -4.2877474 ,\n",
       "       -18.173317  ,  -6.654727  ,   3.2080195 ,   2.981868  ,\n",
       "        14.187775  ,  17.158344  ,  -9.150876  , -17.823221  ,\n",
       "         3.036899  ,  -8.4463415 , -16.503708  , -21.234629  ,\n",
       "        14.267934  ,   4.46083   ], dtype=float32)"
      ]
     },
     "execution_count": 40,
     "metadata": {},
     "output_type": "execute_result"
    }
   ],
   "source": [
    "a"
   ]
  },
  {
   "cell_type": "code",
   "execution_count": null,
   "id": "bea52d7d-3e2b-4fce-baf4-c4d8f0d29569",
   "metadata": {},
   "outputs": [],
   "source": []
  }
 ],
 "metadata": {
  "kernelspec": {
   "display_name": "Python 3 (ipykernel)",
   "language": "python",
   "name": "python3"
  },
  "language_info": {
   "codemirror_mode": {
    "name": "ipython",
    "version": 3
   },
   "file_extension": ".py",
   "mimetype": "text/x-python",
   "name": "python",
   "nbconvert_exporter": "python",
   "pygments_lexer": "ipython3",
   "version": "3.11.6"
  }
 },
 "nbformat": 4,
 "nbformat_minor": 5
}

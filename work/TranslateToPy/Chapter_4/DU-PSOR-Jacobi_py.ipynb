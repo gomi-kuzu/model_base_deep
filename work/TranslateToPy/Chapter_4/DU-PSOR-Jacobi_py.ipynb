{
 "cells": [
  {
   "cell_type": "code",
   "execution_count": 1,
   "id": "cde6a075-dff7-41fc-a842-7f068511b721",
   "metadata": {},
   "outputs": [],
   "source": [
    "import numpy as np\n",
    "import numpy.linalg as LA\n",
    "import jax\n",
    "import jax.numpy as jnp\n",
    "import jax.numpy.linalg as JLA\n",
    "\n",
    "import pandas as pd\n",
    "import matplotlib.pyplot as plt\n",
    "import japanize_matplotlib\n",
    "from jax.example_libraries import optimizers\n",
    "from tqdm.notebook import trange\n",
    "from functools import partial"
   ]
  },
  {
   "cell_type": "code",
   "execution_count": 2,
   "id": "b1610f56-8a50-46e1-9b33-2106fd181447",
   "metadata": {},
   "outputs": [],
   "source": [
    "n = 32\n",
    "num_itr = 20\n",
    "K = 100\n",
    "max_inner = 50\n",
    "train_depth = 20\n",
    "adam_lr = 0.01\n",
    "M = 0.05 * jnp.array(np.random.randn(n, n))\n",
    "P = 0.15 * jnp.eye(len(M)) + M.T @ M"
   ]
  },
  {
   "cell_type": "code",
   "execution_count": 3,
   "id": "4155e4b8-a3c1-43da-8877-fe32493e74d7",
   "metadata": {},
   "outputs": [],
   "source": [
    "def get_x_sol(q):\n",
    "    return JLA.inv(P) @ q\n",
    "batch_get_x_sol = jax.jit(jax.vmap(get_x_sol, in_axes=-1, out_axes=-1))"
   ]
  },
  {
   "cell_type": "code",
   "execution_count": 4,
   "id": "a48ecafc-1d33-4edf-b675-7173b62aecd0",
   "metadata": {},
   "outputs": [],
   "source": [
    "def Jacobi_itr(max_itr, q):\n",
    "    x = jnp.zeros((n, K))\n",
    "    D = jnp.diag(P.diagonal())\n",
    "    Dinv = JLA.inv(D)\n",
    "    A = -Dinv @ (P - D)\n",
    "    b = Dinv @ q\n",
    "    for i in range(max_itr):\n",
    "        x = A @ x + b\n",
    "    return x"
   ]
  },
  {
   "cell_type": "code",
   "execution_count": 5,
   "id": "a4eb3e82-4754-4c1a-96f4-4e5feef4507d",
   "metadata": {},
   "outputs": [],
   "source": [
    "@jax.jit\n",
    "def get_dot(x):\n",
    "    return x @ x.T\n",
    "batch_get_dot = jax.vmap(get_dot, in_axes=-1, out_axes=-1)"
   ]
  },
  {
   "cell_type": "code",
   "execution_count": 6,
   "id": "cfce3f6f-7672-4be7-850a-b3959469f404",
   "metadata": {},
   "outputs": [],
   "source": [
    "def comp_mse(max_itr):\n",
    "    q = jnp.array(np.random.randn(n, K))\n",
    "    x_sol = batch_get_x_sol(q)\n",
    "    x_hat = Jacobi_itr(max_itr, q)\n",
    "    return jnp.sum(batch_get_dot(x_hat - x_sol))/K"
   ]
  },
  {
   "cell_type": "code",
   "execution_count": 7,
   "id": "374fdead-748a-4120-8114-73f492547a64",
   "metadata": {},
   "outputs": [],
   "source": [
    "Jacobi_mse = [comp_mse(i+1) for i in range(num_itr)]"
   ]
  },
  {
   "cell_type": "code",
   "execution_count": 8,
   "id": "538bbc4c-acbb-46b9-866b-ac9a36767dd7",
   "metadata": {},
   "outputs": [],
   "source": [
    "df = pd.DataFrame()\n",
    "df[\"Iteration\"] = range(num_itr)\n",
    "df[\"Jacobi method\"] = np.array(Jacobi_mse)"
   ]
  },
  {
   "cell_type": "code",
   "execution_count": null,
   "id": "a11b3ade-9945-432b-ad41-74c10d76cf08",
   "metadata": {},
   "outputs": [],
   "source": []
  },
  {
   "cell_type": "code",
   "execution_count": 11,
   "id": "ba07856f-b69b-4aab-9354-fc8e64a3842d",
   "metadata": {},
   "outputs": [],
   "source": [
    "@partial(jax.jit, static_argnums=0)\n",
    "def DU_PSOR(max_itr, q, omega, T):\n",
    "    x = jnp.zeros((n, K))\n",
    "    D = jnp.diag(P.diagonal())\n",
    "    Dinv = JLA.inv(D)\n",
    "    A = -Dinv @ (P - D)\n",
    "    b = Dinv @ q\n",
    "    for i in range(max_itr):\n",
    "        k = (i % T) + 1\n",
    "        x += omega[k] * (A @ x + b - x)\n",
    "    return x"
   ]
  },
  {
   "cell_type": "code",
   "execution_count": 12,
   "id": "0ea441f3-8f5d-4dcd-9cf0-5eb480e169e5",
   "metadata": {},
   "outputs": [],
   "source": [
    "def loss(x_fixed, max_itr, q, T, omega):\n",
    "    x_hat = DU_PSOR(max_itr, q, omega, T)\n",
    "    return jnp.sum(batch_get_dot(x_hat - x_fixed))/K"
   ]
  },
  {
   "cell_type": "code",
   "execution_count": 13,
   "id": "3aeab80b-5609-4ade-bd0f-ee1ef0fc024e",
   "metadata": {},
   "outputs": [],
   "source": [
    "opt_init, opt_update, get_params = optimizers.adam(adam_lr)\n",
    "\n",
    "@partial(jax.jit, static_argnums=1)\n",
    "def step(x_fixed, max_itr, q, T, step_num, opt_state):\n",
    "    value, grads = jax.value_and_grad(loss, argnums=-1)(x_fixed, max_itr, q, T, get_params(opt_state))\n",
    "    new_opt_state = opt_update(step_num, grads, opt_state)\n",
    "    return value, new_opt_state\n",
    "\n",
    "def train(omega, T):\n",
    "    opt_state = opt_init(omega)\n",
    "    for itr in trange(train_depth, leave=False):\n",
    "        for i in range(max_inner):\n",
    "            q = jnp.array(np.random.randn(n, K))\n",
    "            x_sol = batch_get_x_sol(q)\n",
    "            value, opt_state = step(x_sol, itr+1, q, T, i, opt_state)\n",
    "        print(\"\\r\"+\"\\rloss:{}\".format(value), end=\" \")\n",
    "    return get_params(opt_state)"
   ]
  },
  {
   "cell_type": "code",
   "execution_count": 14,
   "id": "f35a7352-e6dc-4c12-b6a0-d089a0b93b46",
   "metadata": {},
   "outputs": [],
   "source": [
    "def comp_mse_DUPSOR(max__itr, omega, T):\n",
    "    q = jnp.array(np.random.randn(n, K))\n",
    "    x_sol = batch_get_x_sol(q)\n",
    "    x_hat = DU_PSOR(max__itr, q, omega, T)\n",
    "    return jnp.sum(batch_get_dot(x_hat - x_sol))/K"
   ]
  },
  {
   "cell_type": "code",
   "execution_count": 15,
   "id": "9581d0bc-fdc3-44ca-9c4f-e58cb7a0ef56",
   "metadata": {},
   "outputs": [
    {
     "data": {
      "application/vnd.jupyter.widget-view+json": {
       "model_id": "",
       "version_major": 2,
       "version_minor": 0
      },
      "text/plain": [
       "  0%|          | 0/20 [00:00<?, ?it/s]"
      ]
     },
     "metadata": {},
     "output_type": "display_data"
    },
    {
     "name": "stdout",
     "output_type": "stream",
     "text": [
      "loss:9.187345995087526e-09  "
     ]
    }
   ],
   "source": [
    "T = 1\n",
    "omega_init = jnp.ones(T)\n",
    "omega_trained = train(omega_init, T)"
   ]
  },
  {
   "cell_type": "code",
   "execution_count": 16,
   "id": "92e2d4c0-514a-4a51-ae87-a7ff7d0b65e3",
   "metadata": {},
   "outputs": [],
   "source": [
    "df[\"DU-PSOR iteration T={}\".format(T)] = [float(comp_mse_DUPSOR(i+1, omega_trained, T)) for i in range(num_itr)]"
   ]
  },
  {
   "cell_type": "code",
   "execution_count": 17,
   "id": "2f28ff8f-cfdc-400d-9cc2-ae1ebb5612c6",
   "metadata": {},
   "outputs": [
    {
     "data": {
      "application/vnd.jupyter.widget-view+json": {
       "model_id": "",
       "version_major": 2,
       "version_minor": 0
      },
      "text/plain": [
       "  0%|          | 0/20 [00:00<?, ?it/s]"
      ]
     },
     "metadata": {},
     "output_type": "display_data"
    },
    {
     "name": "stdout",
     "output_type": "stream",
     "text": [
      "loss:1.0302277253515513e-08 "
     ]
    }
   ],
   "source": [
    "T = 2\n",
    "omega_init = jnp.ones(T)\n",
    "omega_trained = train(omega_init, T)"
   ]
  },
  {
   "cell_type": "code",
   "execution_count": 18,
   "id": "c26c3895-87fd-4c5f-a607-7880c994a059",
   "metadata": {},
   "outputs": [],
   "source": [
    "df[\"DU-PSOR iteration T={}\".format(T)] = [float(comp_mse_DUPSOR(i+1, omega_trained, T)) for i in range(num_itr)]"
   ]
  },
  {
   "cell_type": "code",
   "execution_count": 19,
   "id": "ebe34e1f-d910-4915-82db-f5b77e0c309d",
   "metadata": {},
   "outputs": [
    {
     "data": {
      "application/vnd.jupyter.widget-view+json": {
       "model_id": "",
       "version_major": 2,
       "version_minor": 0
      },
      "text/plain": [
       "  0%|          | 0/20 [00:00<?, ?it/s]"
      ]
     },
     "metadata": {},
     "output_type": "display_data"
    },
    {
     "name": "stdout",
     "output_type": "stream",
     "text": [
      "loss:2.020349339215688e-11  "
     ]
    }
   ],
   "source": [
    "T = 8\n",
    "omega_init = jnp.ones(T)\n",
    "omega_trained = train(omega_init, T)"
   ]
  },
  {
   "cell_type": "code",
   "execution_count": 20,
   "id": "8ed7bc64-7c19-4a37-a384-5182d093fe47",
   "metadata": {},
   "outputs": [],
   "source": [
    "df[\"DU-PSOR iteration T={}\".format(T)] = [float(comp_mse_DUPSOR(i+1, omega_trained, T)) for i in range(num_itr)]"
   ]
  },
  {
   "cell_type": "code",
   "execution_count": 21,
   "id": "74c206b2-fb91-43f6-96fd-cb08689e3ae2",
   "metadata": {},
   "outputs": [
    {
     "data": {
      "image/png": "[encoded data removed]",
      "text/plain": [
       "<Figure size 640x480 with 1 Axes>"
      ]
     },
     "metadata": {},
     "output_type": "display_data"
    }
   ],
   "source": [
    "df.plot(x = df.columns[0], y = df.columns[1:])\n",
    "plt.yscale(\"log\")"
   ]
  },
  {
   "cell_type": "code",
   "execution_count": null,
   "id": "2c5f677d-19d1-47a8-978c-fdd6234d0df6",
   "metadata": {},
   "outputs": [],
   "source": []
  }
 ],
 "metadata": {
  "kernelspec": {
   "display_name": "Python 3 (ipykernel)",
   "language": "python",
   "name": "python3"
  },
  "language_info": {
   "codemirror_mode": {
    "name": "ipython",
    "version": 3
   },
   "file_extension": ".py",
   "mimetype": "text/x-python",
   "name": "python",
   "nbconvert_exporter": "python",
   "pygments_lexer": "ipython3",
   "version": "3.11.6"
  }
 },
 "nbformat": 4,
 "nbformat_minor": 5
}

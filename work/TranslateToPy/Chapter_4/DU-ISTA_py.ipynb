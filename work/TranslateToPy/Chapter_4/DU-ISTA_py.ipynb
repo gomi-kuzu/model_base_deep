{
 "cells": [
  {
   "cell_type": "code",
   "execution_count": 1,
   "id": "76d5322b-df84-46aa-9ce4-ff6e577a46d8",
   "metadata": {},
   "outputs": [],
   "source": [
    "import numpy as np\n",
    "import numpy.linalg as LA\n",
    "import jax\n",
    "import jax.numpy as jnp\n",
    "import jax.numpy.linalg as JLA\n",
    "\n",
    "import pandas as pd\n",
    "import matplotlib.pyplot as plt\n",
    "import japanize_matplotlib\n",
    "from jax.example_libraries import optimizers\n",
    "from tqdm.notebook import trange\n",
    "from functools import partial"
   ]
  },
  {
   "cell_type": "code",
   "execution_count": 2,
   "id": "fbbb4a50-a971-48c0-95bc-b095bf361dc5",
   "metadata": {},
   "outputs": [],
   "source": [
    "n = 128\n",
    "m = 64\n",
    "sigma = 0.1\n",
    "p = 0.05\n",
    "num_itr = 40\n",
    "\n",
    "K = 200\n",
    "adam_lr = 5e-5\n",
    "max_inner = 20\n",
    "\n",
    "A = np.random.randn(m, n)\n",
    "eig, _ = LA.eig(A.T @ A)\n",
    "gamma_opt = 1./max(eig)\n",
    "A = jnp.array(A)"
   ]
  },
  {
   "cell_type": "code",
   "execution_count": 3,
   "id": "de270079-b88e-4dad-93c2-0d10a685837a",
   "metadata": {},
   "outputs": [],
   "source": [
    "def mini_batch(K):\n",
    "    seq = np.random.randn(n, K)\n",
    "    support = np.random.binomial(1,p,size=(n, K))\n",
    "    x = jnp.array(seq * support)\n",
    "    y = A @ x + sigma * jnp.array(np.random.randn(m, K))\n",
    "    return y, x"
   ]
  },
  {
   "cell_type": "code",
   "execution_count": 4,
   "id": "b67dd216-5494-4645-9a5a-f3f5ed56bfa9",
   "metadata": {},
   "outputs": [],
   "source": [
    "def softshrink(x, lam):\n",
    "    return jnp.sign(x) * jnp.max(jnp.append(jnp.abs(x) - lam, 0))\n",
    "vec_softshrink = jax.jit(jax.vmap(softshrink, in_axes=[-1, None], out_axes=-1))"
   ]
  },
  {
   "cell_type": "code",
   "execution_count": 5,
   "id": "ebb108b5-549a-4981-b361-04e93b86c8a9",
   "metadata": {},
   "outputs": [],
   "source": [
    "def ISTA(max_itr, y):\n",
    "    x = jnp.zeros((n, K))\n",
    "    for i in range(max_itr):\n",
    "        x -= gamma_opt * A.T @ (A@x - y)\n",
    "        x = vec_softshrink(x.reshape(1, -1), gamma_opt)\n",
    "        x = x.reshape(n, K)\n",
    "    return x"
   ]
  },
  {
   "cell_type": "code",
   "execution_count": 6,
   "id": "c6de136f-b64e-48af-bc41-e1b064c5cb53",
   "metadata": {},
   "outputs": [],
   "source": [
    "@jax.jit\n",
    "def get_dot(x):\n",
    "    return x @ x.T\n",
    "batch_get_dot = jax.vmap(get_dot, in_axes=-1, out_axes=-1)"
   ]
  },
  {
   "cell_type": "code",
   "execution_count": 7,
   "id": "6eb85bf2-6571-4ed8-995f-0bf0fd42bac9",
   "metadata": {},
   "outputs": [],
   "source": [
    "def comp_mse(max_itr):\n",
    "    y, x_org = mini_batch(K)\n",
    "    x_hat = ISTA(max_itr, y)\n",
    "    return jnp.sum(batch_get_dot(x_org - x_hat))/K"
   ]
  },
  {
   "cell_type": "code",
   "execution_count": 8,
   "id": "b973fad0-c745-4931-be36-abeb0146ffc9",
   "metadata": {},
   "outputs": [],
   "source": [
    "ISTA_mse = [float(jax.device_get(comp_mse(i+1)).real) for i in range(num_itr)]\n",
    "df = pd.DataFrame()\n",
    "df[\"Itaration\"] = range(num_itr)\n",
    "df[\"ISTA (fixed step size)\"] = ISTA_mse"
   ]
  },
  {
   "cell_type": "code",
   "execution_count": 9,
   "id": "d6ad9d78-4235-4819-a4c7-dec9bb278bb9",
   "metadata": {},
   "outputs": [],
   "source": [
    "@partial(jax.jit, static_argnums=0)\n",
    "def DU_ISTA(max_itr, y, eta, mu):\n",
    "    x = jnp.zeros((n, K))\n",
    "    for i in range(max_itr):\n",
    "        x -= eta[i] * A.T@(A@x -y)\n",
    "        x = vec_softshrink(x.reshape(1, -1), mu[i])\n",
    "        x = x.reshape((n, K)).real\n",
    "    return x"
   ]
  },
  {
   "cell_type": "code",
   "execution_count": 22,
   "id": "5a2c7606-9930-4cb4-86aa-792e1d04d200",
   "metadata": {},
   "outputs": [],
   "source": [
    "@partial(jax.jit, static_argnums=1)\n",
    "def loss(x_org, max_itr, y, eta, mu):\n",
    "    x_hat = DU_ISTA(max_itr, y, eta, mu)\n",
    "    return jnp.sum(batch_get_dot(x_org - x_hat))/K"
   ]
  },
  {
   "cell_type": "code",
   "execution_count": 23,
   "id": "f9e85ed2-647a-41f3-a04e-6734c03c34ee",
   "metadata": {},
   "outputs": [],
   "source": [
    "opt_init1, opt_update1, get_params1 = optimizers.adam(adam_lr)\n",
    "opt_init2, opt_update2, get_params2 = optimizers.adam(adam_lr)\n",
    "\n",
    "@partial(jax.jit, static_argnums=1)\n",
    "def step(x_org, max_itr, y, step_num, opt_state1, opt_state2):\n",
    "    tmp_eta = get_params1(opt_state1)\n",
    "    tmp_mu = get_params2(opt_state2)\n",
    "    value, grads = jax.value_and_grad(loss, argnums=-2)(x_org, max_itr, y, tmp_eta, tmp_mu)\n",
    "    new_opt_state1 = opt_update1(step_num, grads, opt_state1)\n",
    "    value, grads = jax.value_and_grad(loss, argnums=-1)(x_org, max_itr, y, tmp_eta, tmp_mu)\n",
    "    new_opt_state2 = opt_update2(step_num, grads, opt_state2)\n",
    "    return value, new_opt_state1, new_opt_state2\n",
    "\n",
    "def train(eta, mu):\n",
    "    opt_state1 = opt_init1(eta)\n",
    "    opt_state2 = opt_init2(mu)\n",
    "    for itr in trange(num_itr, leave=False):\n",
    "        for i in range(max_inner):\n",
    "            y, x_org = mini_batch(K)\n",
    "            value, opt_state1, opt_state2 = step(x_org, itr+1, y, i, opt_state1, opt_state2)\n",
    "        print(\"\\r\"+\"\\rloss:{}\".format(value), end=\" \")\n",
    "    return get_params1(opt_state1), get_params2(opt_state2)"
   ]
  },
  {
   "cell_type": "code",
   "execution_count": 24,
   "id": "365cecc3-5444-414a-913a-f35a2ad387b6",
   "metadata": {},
   "outputs": [],
   "source": [
    "def comp_mse_DUGD(max_itr, eta, mu):\n",
    "    y, x_org = mini_batch(K)\n",
    "    return float(loss(x_org, max_itr, y, eta, mu))"
   ]
  },
  {
   "cell_type": "code",
   "execution_count": 25,
   "id": "3c8a7c9c-76c4-4873-b208-106cd9ab4418",
   "metadata": {},
   "outputs": [
    {
     "data": {
      "application/vnd.jupyter.widget-view+json": {
       "model_id": "",
       "version_major": 2,
       "version_minor": 0
      },
      "text/plain": [
       "  0%|          | 0/40 [00:00<?, ?it/s]"
      ]
     },
     "metadata": {},
     "output_type": "display_data"
    },
    {
     "name": "stdout",
     "output_type": "stream",
     "text": [
      "loss:1.839298963546753  "
     ]
    },
    {
     "name": "stderr",
     "output_type": "stream",
     "text": [
      "/opt/conda/lib/python3.11/site-packages/jax/_src/lax/lax.py:2690: ComplexWarning: Casting complex values to real discards the imaginary part\n",
      "  x_bar = _convert_element_type(x_bar, x.aval.dtype, x.aval.weak_type)\n"
     ]
    },
    {
     "name": "stdout",
     "output_type": "stream",
     "text": [
      "loss:1.5355815887451172 "
     ]
    },
    {
     "name": "stderr",
     "output_type": "stream",
     "text": [
      "/opt/conda/lib/python3.11/site-packages/jax/_src/lax/lax.py:2690: ComplexWarning: Casting complex values to real discards the imaginary part\n",
      "  x_bar = _convert_element_type(x_bar, x.aval.dtype, x.aval.weak_type)\n"
     ]
    },
    {
     "name": "stdout",
     "output_type": "stream",
     "text": [
      "loss:1.5410757064819336 "
     ]
    },
    {
     "name": "stderr",
     "output_type": "stream",
     "text": [
      "/opt/conda/lib/python3.11/site-packages/jax/_src/lax/lax.py:2690: ComplexWarning: Casting complex values to real discards the imaginary part\n",
      "  x_bar = _convert_element_type(x_bar, x.aval.dtype, x.aval.weak_type)\n"
     ]
    },
    {
     "name": "stdout",
     "output_type": "stream",
     "text": [
      "loss:1.5596706867218018 "
     ]
    },
    {
     "name": "stderr",
     "output_type": "stream",
     "text": [
      "/opt/conda/lib/python3.11/site-packages/jax/_src/lax/lax.py:2690: ComplexWarning: Casting complex values to real discards the imaginary part\n",
      "  x_bar = _convert_element_type(x_bar, x.aval.dtype, x.aval.weak_type)\n"
     ]
    },
    {
     "name": "stdout",
     "output_type": "stream",
     "text": [
      "loss:1.517789602279663 "
     ]
    },
    {
     "name": "stderr",
     "output_type": "stream",
     "text": [
      "/opt/conda/lib/python3.11/site-packages/jax/_src/lax/lax.py:2690: ComplexWarning: Casting complex values to real discards the imaginary part\n",
      "  x_bar = _convert_element_type(x_bar, x.aval.dtype, x.aval.weak_type)\n"
     ]
    },
    {
     "name": "stdout",
     "output_type": "stream",
     "text": [
      "loss:1.3358747959136963 "
     ]
    },
    {
     "name": "stderr",
     "output_type": "stream",
     "text": [
      "/opt/conda/lib/python3.11/site-packages/jax/_src/lax/lax.py:2690: ComplexWarning: Casting complex values to real discards the imaginary part\n",
      "  x_bar = _convert_element_type(x_bar, x.aval.dtype, x.aval.weak_type)\n"
     ]
    },
    {
     "name": "stdout",
     "output_type": "stream",
     "text": [
      "loss:1.1977527141571045 "
     ]
    },
    {
     "name": "stderr",
     "output_type": "stream",
     "text": [
      "/opt/conda/lib/python3.11/site-packages/jax/_src/lax/lax.py:2690: ComplexWarning: Casting complex values to real discards the imaginary part\n",
      "  x_bar = _convert_element_type(x_bar, x.aval.dtype, x.aval.weak_type)\n"
     ]
    },
    {
     "name": "stdout",
     "output_type": "stream",
     "text": [
      "loss:1.38322114944458 "
     ]
    },
    {
     "name": "stderr",
     "output_type": "stream",
     "text": [
      "/opt/conda/lib/python3.11/site-packages/jax/_src/lax/lax.py:2690: ComplexWarning: Casting complex values to real discards the imaginary part\n",
      "  x_bar = _convert_element_type(x_bar, x.aval.dtype, x.aval.weak_type)\n"
     ]
    },
    {
     "name": "stdout",
     "output_type": "stream",
     "text": [
      "loss:1.28880774974823 "
     ]
    },
    {
     "name": "stderr",
     "output_type": "stream",
     "text": [
      "/opt/conda/lib/python3.11/site-packages/jax/_src/lax/lax.py:2690: ComplexWarning: Casting complex values to real discards the imaginary part\n",
      "  x_bar = _convert_element_type(x_bar, x.aval.dtype, x.aval.weak_type)\n"
     ]
    },
    {
     "name": "stdout",
     "output_type": "stream",
     "text": [
      "loss:1.3430923223495483 "
     ]
    },
    {
     "name": "stderr",
     "output_type": "stream",
     "text": [
      "/opt/conda/lib/python3.11/site-packages/jax/_src/lax/lax.py:2690: ComplexWarning: Casting complex values to real discards the imaginary part\n",
      "  x_bar = _convert_element_type(x_bar, x.aval.dtype, x.aval.weak_type)\n"
     ]
    },
    {
     "name": "stdout",
     "output_type": "stream",
     "text": [
      "loss:1.0134357213974 "
     ]
    },
    {
     "name": "stderr",
     "output_type": "stream",
     "text": [
      "/opt/conda/lib/python3.11/site-packages/jax/_src/lax/lax.py:2690: ComplexWarning: Casting complex values to real discards the imaginary part\n",
      "  x_bar = _convert_element_type(x_bar, x.aval.dtype, x.aval.weak_type)\n"
     ]
    },
    {
     "name": "stdout",
     "output_type": "stream",
     "text": [
      "loss:0.9108724594116211 "
     ]
    },
    {
     "name": "stderr",
     "output_type": "stream",
     "text": [
      "/opt/conda/lib/python3.11/site-packages/jax/_src/lax/lax.py:2690: ComplexWarning: Casting complex values to real discards the imaginary part\n",
      "  x_bar = _convert_element_type(x_bar, x.aval.dtype, x.aval.weak_type)\n"
     ]
    },
    {
     "name": "stdout",
     "output_type": "stream",
     "text": [
      "loss:0.9750023484230042 "
     ]
    },
    {
     "name": "stderr",
     "output_type": "stream",
     "text": [
      "/opt/conda/lib/python3.11/site-packages/jax/_src/lax/lax.py:2690: ComplexWarning: Casting complex values to real discards the imaginary part\n",
      "  x_bar = _convert_element_type(x_bar, x.aval.dtype, x.aval.weak_type)\n"
     ]
    },
    {
     "name": "stdout",
     "output_type": "stream",
     "text": [
      "loss:0.8799667358398438 "
     ]
    },
    {
     "name": "stderr",
     "output_type": "stream",
     "text": [
      "/opt/conda/lib/python3.11/site-packages/jax/_src/lax/lax.py:2690: ComplexWarning: Casting complex values to real discards the imaginary part\n",
      "  x_bar = _convert_element_type(x_bar, x.aval.dtype, x.aval.weak_type)\n"
     ]
    },
    {
     "name": "stdout",
     "output_type": "stream",
     "text": [
      "loss:0.9085001349449158 "
     ]
    },
    {
     "name": "stderr",
     "output_type": "stream",
     "text": [
      "/opt/conda/lib/python3.11/site-packages/jax/_src/lax/lax.py:2690: ComplexWarning: Casting complex values to real discards the imaginary part\n",
      "  x_bar = _convert_element_type(x_bar, x.aval.dtype, x.aval.weak_type)\n"
     ]
    },
    {
     "name": "stdout",
     "output_type": "stream",
     "text": [
      "loss:0.8443092107772827 "
     ]
    },
    {
     "name": "stderr",
     "output_type": "stream",
     "text": [
      "/opt/conda/lib/python3.11/site-packages/jax/_src/lax/lax.py:2690: ComplexWarning: Casting complex values to real discards the imaginary part\n",
      "  x_bar = _convert_element_type(x_bar, x.aval.dtype, x.aval.weak_type)\n"
     ]
    },
    {
     "name": "stdout",
     "output_type": "stream",
     "text": [
      "loss:0.731044590473175 "
     ]
    },
    {
     "name": "stderr",
     "output_type": "stream",
     "text": [
      "/opt/conda/lib/python3.11/site-packages/jax/_src/lax/lax.py:2690: ComplexWarning: Casting complex values to real discards the imaginary part\n",
      "  x_bar = _convert_element_type(x_bar, x.aval.dtype, x.aval.weak_type)\n"
     ]
    },
    {
     "name": "stdout",
     "output_type": "stream",
     "text": [
      "loss:0.7622237801551819 "
     ]
    },
    {
     "name": "stderr",
     "output_type": "stream",
     "text": [
      "/opt/conda/lib/python3.11/site-packages/jax/_src/lax/lax.py:2690: ComplexWarning: Casting complex values to real discards the imaginary part\n",
      "  x_bar = _convert_element_type(x_bar, x.aval.dtype, x.aval.weak_type)\n"
     ]
    },
    {
     "name": "stdout",
     "output_type": "stream",
     "text": [
      "loss:0.6985417008399963 "
     ]
    },
    {
     "name": "stderr",
     "output_type": "stream",
     "text": [
      "/opt/conda/lib/python3.11/site-packages/jax/_src/lax/lax.py:2690: ComplexWarning: Casting complex values to real discards the imaginary part\n",
      "  x_bar = _convert_element_type(x_bar, x.aval.dtype, x.aval.weak_type)\n"
     ]
    },
    {
     "name": "stdout",
     "output_type": "stream",
     "text": [
      "loss:0.5673666000366211 "
     ]
    },
    {
     "name": "stderr",
     "output_type": "stream",
     "text": [
      "/opt/conda/lib/python3.11/site-packages/jax/_src/lax/lax.py:2690: ComplexWarning: Casting complex values to real discards the imaginary part\n",
      "  x_bar = _convert_element_type(x_bar, x.aval.dtype, x.aval.weak_type)\n"
     ]
    },
    {
     "name": "stdout",
     "output_type": "stream",
     "text": [
      "loss:0.5552796125411987 "
     ]
    },
    {
     "name": "stderr",
     "output_type": "stream",
     "text": [
      "/opt/conda/lib/python3.11/site-packages/jax/_src/lax/lax.py:2690: ComplexWarning: Casting complex values to real discards the imaginary part\n",
      "  x_bar = _convert_element_type(x_bar, x.aval.dtype, x.aval.weak_type)\n"
     ]
    },
    {
     "name": "stdout",
     "output_type": "stream",
     "text": [
      "loss:0.5356123447418213 "
     ]
    },
    {
     "name": "stderr",
     "output_type": "stream",
     "text": [
      "/opt/conda/lib/python3.11/site-packages/jax/_src/lax/lax.py:2690: ComplexWarning: Casting complex values to real discards the imaginary part\n",
      "  x_bar = _convert_element_type(x_bar, x.aval.dtype, x.aval.weak_type)\n"
     ]
    },
    {
     "name": "stdout",
     "output_type": "stream",
     "text": [
      "loss:0.5894371271133423 "
     ]
    },
    {
     "name": "stderr",
     "output_type": "stream",
     "text": [
      "/opt/conda/lib/python3.11/site-packages/jax/_src/lax/lax.py:2690: ComplexWarning: Casting complex values to real discards the imaginary part\n",
      "  x_bar = _convert_element_type(x_bar, x.aval.dtype, x.aval.weak_type)\n"
     ]
    },
    {
     "name": "stdout",
     "output_type": "stream",
     "text": [
      "loss:0.5595569610595703 "
     ]
    },
    {
     "name": "stderr",
     "output_type": "stream",
     "text": [
      "/opt/conda/lib/python3.11/site-packages/jax/_src/lax/lax.py:2690: ComplexWarning: Casting complex values to real discards the imaginary part\n",
      "  x_bar = _convert_element_type(x_bar, x.aval.dtype, x.aval.weak_type)\n"
     ]
    },
    {
     "name": "stdout",
     "output_type": "stream",
     "text": [
      "loss:0.5284697413444519 "
     ]
    }
   ],
   "source": [
    "eta_init = gamma_opt*jnp.ones(num_itr)\n",
    "mu_init = gamma_opt*jnp.ones(num_itr)\n",
    "eta_trained, mu_trained = train(eta_init, mu_init)"
   ]
  },
  {
   "cell_type": "code",
   "execution_count": 26,
   "id": "7364814c-ae13-451b-95ad-85317aaddfe9",
   "metadata": {},
   "outputs": [],
   "source": [
    "DUGD_mse = [comp_mse_DUGD(i+1, eta_trained, mu_trained) for i in range(num_itr)]\n",
    "df[\"DU-ISTA\"] = DUGD_mse"
   ]
  },
  {
   "cell_type": "code",
   "execution_count": 28,
   "id": "5e7f9f14-8ece-4ecb-8d24-70cea449e523",
   "metadata": {},
   "outputs": [
    {
     "data": {
      "image/png": "[encoded data removed]",
      "text/plain": [
       "<Figure size 640x480 with 1 Axes>"
      ]
     },
     "metadata": {},
     "output_type": "display_data"
    }
   ],
   "source": [
    "df.plot(df.columns[0], df.columns[1:3])\n",
    "plt.yscale(\"log\")"
   ]
  },
  {
   "cell_type": "code",
   "execution_count": 29,
   "id": "c94499c1-ba96-436d-ab3d-2da5ada03330",
   "metadata": {},
   "outputs": [],
   "source": [
    "df[\"eta\"] = eta_trained.real\n",
    "df[\"mu\"] = mu_trained.real"
   ]
  },
  {
   "cell_type": "code",
   "execution_count": 30,
   "id": "56bd84fe-2fd5-4e86-ac76-cd8d43d2b722",
   "metadata": {},
   "outputs": [
    {
     "data": {
      "image/png": "[encoded data removed]",
      "text/plain": [
       "<Figure size 640x480 with 1 Axes>"
      ]
     },
     "metadata": {},
     "output_type": "display_data"
    }
   ],
   "source": [
    "df.plot(df.columns[0], \"eta\");"
   ]
  },
  {
   "cell_type": "code",
   "execution_count": 31,
   "id": "b4a79d44-a017-40bb-bc6c-c46181e732a4",
   "metadata": {},
   "outputs": [
    {
     "data": {
      "image/png": "[encoded data removed]",
      "text/plain": [
       "<Figure size 640x480 with 1 Axes>"
      ]
     },
     "metadata": {},
     "output_type": "display_data"
    }
   ],
   "source": [
    "df.plot(df.columns[0], \"mu\");"
   ]
  },
  {
   "cell_type": "code",
   "execution_count": null,
   "id": "5fc83c8c-3318-4470-a43e-ddd9f0df2be0",
   "metadata": {},
   "outputs": [],
   "source": []
  }
 ],
 "metadata": {
  "kernelspec": {
   "display_name": "Python 3 (ipykernel)",
   "language": "python",
   "name": "python3"
  },
  "language_info": {
   "codemirror_mode": {
    "name": "ipython",
    "version": 3
   },
   "file_extension": ".py",
   "mimetype": "text/x-python",
   "name": "python",
   "nbconvert_exporter": "python",
   "pygments_lexer": "ipython3",
   "version": "3.11.6"
  }
 },
 "nbformat": 4,
 "nbformat_minor": 5
}

{
 "cells": [
  {
   "cell_type": "markdown",
   "id": "214d1145-1d34-4f58-b06d-94177cca85a8",
   "metadata": {},
   "source": [
    "## 最適制御問題"
   ]
  },
  {
   "cell_type": "code",
   "execution_count": 1,
   "id": "9aa899e4-4322-4f4e-a723-eb76b32fa2c8",
   "metadata": {},
   "outputs": [],
   "source": [
    "import jax\n",
    "import jax.numpy as jnp\n",
    "\n",
    "import pandas as pd\n",
    "import matplotlib.pyplot as plt\n",
    "import japanize_matplotlib\n",
    "from jax.example_libraries import optimizers\n",
    "from tqdm.notebook import trange\n",
    "from functools import partial"
   ]
  },
  {
   "cell_type": "markdown",
   "id": "111802a6-876b-4f44-886c-03c159e4dc21",
   "metadata": {},
   "source": [
    "### 準備"
   ]
  },
  {
   "cell_type": "code",
   "execution_count": 2,
   "id": "e131c0ad-e553-4abe-8606-ed543d891cb6",
   "metadata": {},
   "outputs": [],
   "source": [
    "delta = 0.05\n",
    "beta = 20.0\n",
    "N = 100\n",
    "T = 1.0\n",
    "train_itr = 200"
   ]
  },
  {
   "cell_type": "markdown",
   "id": "d630d849-452e-4ce4-84ba-7cf445ffdb02",
   "metadata": {},
   "source": [
    "### 放射基底関数の定義"
   ]
  },
  {
   "cell_type": "code",
   "execution_count": 3,
   "id": "35c8e02f-4b3c-4235-b111-e16f953e27b9",
   "metadata": {},
   "outputs": [],
   "source": [
    "def rbf(x, beta):\n",
    "    return jnp.exp(-beta*x**2)"
   ]
  },
  {
   "cell_type": "code",
   "execution_count": 4,
   "id": "cb5551d7-c4f6-4609-9040-873934d25de7",
   "metadata": {},
   "outputs": [],
   "source": [
    "@jax.jit\n",
    "def rbf_func(x, theta):\n",
    "    s = 0.\n",
    "    for i in range(len(theta)):\n",
    "        s +=theta[i] * rbf(x - delta*i+0.5, beta)\n",
    "    return s"
   ]
  },
  {
   "cell_type": "markdown",
   "id": "ca1d19aa-5514-4ef8-827a-fe3c3cceb930",
   "metadata": {},
   "source": [
    "### 微分可能数値積分モジュールの定義"
   ]
  },
  {
   "cell_type": "code",
   "execution_count": 5,
   "id": "311c61d8-07b4-4e35-aa31-23a56ff047a1",
   "metadata": {},
   "outputs": [],
   "source": [
    "def Integrate(T, N, theta):\n",
    "    dt = T/N\n",
    "    J = 0.\n",
    "    x = 1.\n",
    "    for i in range(N):\n",
    "        u = rbf_func(i*dt, theta)\n",
    "        x += u*dt\n",
    "        F = x**2 + u**2\n",
    "        J += F*dt\n",
    "    return J"
   ]
  },
  {
   "cell_type": "markdown",
   "id": "0c927a97-2317-40f7-9bec-b85b557c9e81",
   "metadata": {},
   "source": [
    "### 学習"
   ]
  },
  {
   "cell_type": "code",
   "execution_count": 6,
   "id": "7ecfc276-ad34-42da-b629-376c0dff6962",
   "metadata": {},
   "outputs": [],
   "source": [
    "adam_lr = 0.1\n",
    "opt_init, opt_update, get_params = optimizers.adam(adam_lr)\n",
    "\n",
    "def step(T, N, step_num, opt_state):\n",
    "    value, grads = jax.value_and_grad(Integrate, argnums=-1)(T, N, get_params(opt_state))\n",
    "    new_opt_state = opt_update(step_num, grads, opt_state)\n",
    "    return value, new_opt_state\n",
    "\n",
    "def train(T, N, theta):\n",
    "    opt_state = opt_init(theta)\n",
    "    for itr in trange(train_itr, leave=False):\n",
    "        value, opt_state = step(T, N, itr, opt_state)\n",
    "        print(\"\\r\"+\"\\rloss:{}\".format(value), end=\" \")\n",
    "    return get_params(opt_state)"
   ]
  },
  {
   "cell_type": "code",
   "execution_count": 7,
   "id": "9eee3044-fbc8-4fad-b898-fade708b7132",
   "metadata": {},
   "outputs": [
    {
     "data": {
      "application/vnd.jupyter.widget-view+json": {
       "model_id": "",
       "version_major": 2,
       "version_minor": 0
      },
      "text/plain": [
       "  0%|          | 0/200 [00:00<?, ?it/s]"
      ]
     },
     "metadata": {},
     "output_type": "display_data"
    },
    {
     "name": "stdout",
     "output_type": "stream",
     "text": [
      "loss:0.7586945295333862 "
     ]
    }
   ],
   "source": [
    "theta_init = jnp.ones(50)\n",
    "theta_trained = train(T, N, theta_init)"
   ]
  },
  {
   "cell_type": "markdown",
   "id": "df83dc09-665e-4e63-86b1-6e81167969d0",
   "metadata": {},
   "source": [
    "### 厳密解との比較"
   ]
  },
  {
   "cell_type": "code",
   "execution_count": 8,
   "id": "a197f22c-eb06-4afc-8097-276716674b9d",
   "metadata": {},
   "outputs": [],
   "source": [
    "ts = jnp.arange(0,1,1/len(theta_init))\n",
    "df = pd.DataFrame()\n",
    "df[\"t\"] = ts\n",
    "df[\"Exact\"] = [float(-jnp.sinh(1-t)/jnp.cosh(1.)) for t in ts]\n",
    "df[\"DU-VO\"] = [float(rbf_func(t, theta_trained)) for t in ts]"
   ]
  },
  {
   "cell_type": "code",
   "execution_count": 9,
   "id": "04057c9d-244b-48e0-89ca-5ba975730065",
   "metadata": {
    "scrolled": true
   },
   "outputs": [
    {
     "data": {
      "image/png": "[encoded data removed]",
      "text/plain": [
       "<Figure size 640x480 with 1 Axes>"
      ]
     },
     "metadata": {},
     "output_type": "display_data"
    }
   ],
   "source": [
    "df.plot(\"t\", df.columns[1:]);"
   ]
  }
 ],
 "metadata": {
  "kernelspec": {
   "display_name": "Python 3 (ipykernel)",
   "language": "python",
   "name": "python3"
  },
  "language_info": {
   "codemirror_mode": {
    "name": "ipython",
    "version": 3
   },
   "file_extension": ".py",
   "mimetype": "text/x-python",
   "name": "python",
   "nbconvert_exporter": "python",
   "pygments_lexer": "ipython3",
   "version": "3.11.6"
  }
 },
 "nbformat": 4,
 "nbformat_minor": 5
}

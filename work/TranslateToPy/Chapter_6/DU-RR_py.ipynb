{
 "cells": [
  {
   "cell_type": "code",
   "execution_count": 1,
   "id": "9aa899e4-4322-4f4e-a723-eb76b32fa2c8",
   "metadata": {},
   "outputs": [],
   "source": [
    "import numpy as np\n",
    "import numpy.linalg as LA\n",
    "import jax\n",
    "import jax.numpy as jnp\n",
    "import jax.numpy.linalg as JLA\n",
    "\n",
    "import pandas as pd\n",
    "import matplotlib.pyplot as plt\n",
    "import japanize_matplotlib\n",
    "from jax.example_libraries import optimizers\n",
    "from tqdm.notebook import trange\n",
    "from functools import partial"
   ]
  },
  {
   "cell_type": "code",
   "execution_count": 3,
   "id": "e131c0ad-e553-4abe-8606-ed543d891cb6",
   "metadata": {},
   "outputs": [],
   "source": [
    "delta = 0.05\n",
    "beta = 20.0\n",
    "N = 100\n",
    "T = 1.0\n",
    "Lambda = 1000.0\n",
    "train_itr = 300"
   ]
  },
  {
   "cell_type": "code",
   "execution_count": 8,
   "id": "35c8e02f-4b3c-4235-b111-e16f953e27b9",
   "metadata": {},
   "outputs": [],
   "source": [
    "def rbf(x, beta):\n",
    "    return jnp.exp(-beta*x**2)\n",
    "d_rbf = jax.grad(rbf)"
   ]
  },
  {
   "cell_type": "code",
   "execution_count": 23,
   "id": "cb5551d7-c4f6-4609-9040-873934d25de7",
   "metadata": {},
   "outputs": [],
   "source": [
    "def rbf_func(x, theta):\n",
    "    s = 0.\n",
    "    for i in range(len(theta)):\n",
    "        s +=theta[i] * rbf(x - delta*(i-1)+0.5, beta)\n",
    "    return s"
   ]
  },
  {
   "cell_type": "code",
   "execution_count": 24,
   "id": "e42497a3-1e27-4476-913d-3126e0db8d05",
   "metadata": {},
   "outputs": [],
   "source": [
    "def d_rbf_func(x, theta):\n",
    "    s = 0.\n",
    "    for i in range(len(theta)):\n",
    "        s += theta[i] * d_rbf(x - delta*(i-1)+0.5, beta)\n",
    "    return s"
   ]
  },
  {
   "cell_type": "code",
   "execution_count": 25,
   "id": "71c8e7c8-6136-458c-a53d-4ab8f4f29757",
   "metadata": {},
   "outputs": [],
   "source": [
    "theta = jnp.ones(50)\n",
    "xs = jnp.arange(0,1,1/50)"
   ]
  },
  {
   "cell_type": "code",
   "execution_count": 31,
   "id": "3e9d3f75-1a7e-4ccb-bb80-7ee7e1a15cb6",
   "metadata": {},
   "outputs": [],
   "source": [
    "df = pd.DataFrame()\n",
    "df[\"x\"] = xs\n",
    "df[\"rbf_func\"] = [float(rbf_func(x, theta)) for x in xs]\n",
    "df[\"d_rbf_func\"] = [float(d_rbf_func(x, theta)) for x in xs]"
   ]
  },
  {
   "cell_type": "code",
   "execution_count": 38,
   "id": "b99ae95b-8924-46bf-901b-0c9d9ed7cede",
   "metadata": {},
   "outputs": [
    {
     "data": {
      "image/png": "[encoded data removed]",
      "text/plain": [
       "<Figure size 640x480 with 1 Axes>"
      ]
     },
     "metadata": {},
     "output_type": "display_data"
    }
   ],
   "source": [
    "df.plot(\"x\", [\"rbf_func\",\"d_rbf_func\"]);"
   ]
  },
  {
   "cell_type": "code",
   "execution_count": null,
   "id": "311c61d8-07b4-4e35-aa31-23a56ff047a1",
   "metadata": {},
   "outputs": [],
   "source": []
  }
 ],
 "metadata": {
  "kernelspec": {
   "display_name": "Python 3 (ipykernel)",
   "language": "python",
   "name": "python3"
  },
  "language_info": {
   "codemirror_mode": {
    "name": "ipython",
    "version": 3
   },
   "file_extension": ".py",
   "mimetype": "text/x-python",
   "name": "python",
   "nbconvert_exporter": "python",
   "pygments_lexer": "ipython3",
   "version": "3.11.6"
  }
 },
 "nbformat": 4,
 "nbformat_minor": 5
}

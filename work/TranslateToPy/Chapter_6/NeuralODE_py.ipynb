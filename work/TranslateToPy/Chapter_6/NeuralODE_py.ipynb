{
 "cells": [
  {
   "cell_type": "code",
   "execution_count": 11,
   "id": "c006e7d8-7aed-4436-a3c5-c15f4a074145",
   "metadata": {},
   "outputs": [],
   "source": [
    "import numpy as np\n",
    "import numpy.linalg as LA\n",
    "import jax\n",
    "import jax.numpy as jnp\n",
    "import jax.numpy.linalg as JLA\n",
    "\n",
    "import pandas as pd\n",
    "import matplotlib.pyplot as plt\n",
    "import japanize_matplotlib\n",
    "from jax.example_libraries import optimizers\n",
    "from tqdm.notebook import trange\n",
    "from functools import partial"
   ]
  },
  {
   "cell_type": "code",
   "execution_count": 2,
   "id": "f84c88d1-1228-4b99-8e5f-42d7159f53d5",
   "metadata": {},
   "outputs": [],
   "source": [
    "T = 4.0\n",
    "N = 200\n",
    "eta = T/N\n",
    "std = 0.1\n",
    "train_itr = 500\n",
    "m = 16\n",
    "init_std = 1e-3"
   ]
  },
  {
   "cell_type": "code",
   "execution_count": 10,
   "id": "bc296759-a7d0-48ef-980e-1f72250d6eb6",
   "metadata": {},
   "outputs": [],
   "source": [
    "def gen_dataset(std, func):\n",
    "    x_data = jnp.zeros(N)\n",
    "    for i in range(N):\n",
    "        if i % 10 == 0:\n",
    "            x_data[i] = func(eta*i) + std*jnp.array(np.random.randn())\n",
    "        else:\n",
    "            x_data[i] = jnp.nan\n",
    "    return x_data"
   ]
  },
  {
   "cell_type": "code",
   "execution_count": 12,
   "id": "f4523e7d-8f2c-4773-b0de-1606eaf44f44",
   "metadata": {},
   "outputs": [],
   "source": [
    "def Euler(max_itr, W1, b1, W2, b2):\n",
    "    x = jnp.zeros(2)\n",
    "    for i in range(max_itr):\n",
    "        x += eta*(W2*jax.nn.relu(W1*x+b1)+b2)\n",
    "    return x[0]"
   ]
  },
  {
   "cell_type": "code",
   "execution_count": null,
   "id": "bfd91aba-e930-421c-a20b-1c5eec15fa55",
   "metadata": {},
   "outputs": [],
   "source": []
  }
 ],
 "metadata": {
  "kernelspec": {
   "display_name": "Python 3 (ipykernel)",
   "language": "python",
   "name": "python3"
  },
  "language_info": {
   "codemirror_mode": {
    "name": "ipython",
    "version": 3
   },
   "file_extension": ".py",
   "mimetype": "text/x-python",
   "name": "python",
   "nbconvert_exporter": "python",
   "pygments_lexer": "ipython3",
   "version": "3.11.6"
  }
 },
 "nbformat": 4,
 "nbformat_minor": 5
}

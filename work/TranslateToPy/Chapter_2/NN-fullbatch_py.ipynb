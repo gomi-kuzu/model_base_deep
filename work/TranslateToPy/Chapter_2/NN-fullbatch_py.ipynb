{
 "cells": [
  {
   "cell_type": "code",
   "execution_count": 2,
   "id": "7b2cca17-6ff7-4b4a-a1c4-13513397ef6a",
   "metadata": {},
   "outputs": [],
   "source": [
    "import numpy as np\n",
    "import jax\n",
    "import jax.numpy as jnp\n",
    "\n",
    "import matplotlib.pyplot as plt\n",
    "import japanize_matplotlib\n",
    "from jax.example_libraries import optimizers"
   ]
  },
  {
   "cell_type": "code",
   "execution_count": 3,
   "id": "3c3132c2-8e39-40b1-be55-5698767441b7",
   "metadata": {},
   "outputs": [],
   "source": [
    "rng = jax.random.PRNGKey(42)\n",
    "rng, subkey = jax.random.split(rng, num=2)\n",
    "\n",
    "m = 100 #中間層の次元数\n",
    "a = jax.random.normal(subkey,(m,)) #中間層と出力層の間の重み（今回はハイパラ）\n",
    "n = 50 #データ数\n",
    "d = 10 #入力層の次元数"
   ]
  },
  {
   "cell_type": "code",
   "execution_count": 4,
   "id": "96a221a2-b20e-4b6b-806a-dde4082ff3a3",
   "metadata": {},
   "outputs": [],
   "source": [
    "# 教師データ（入出力の組）作成\n",
    "rng, subkey = jax.random.split(rng, num=2)\n",
    "G = jax.random.normal(subkey, (d,d))\n",
    "X = jnp.zeros((d, n)) #入力\n",
    "Y = jnp.zeros(n) #出力\n",
    "\n",
    "for j in range(n):\n",
    "    rng, subkey = jax.random.split(rng, num=2)\n",
    "    x = jax.random.normal(subkey, (d,))\n",
    "    x = x/jnp.linalg.norm(x)\n",
    "    y = x.T@G@x\n",
    "    X = X.at[:,j].set(x)\n",
    "    Y = Y.at[j].set(y)"
   ]
  },
  {
   "cell_type": "code",
   "execution_count": 5,
   "id": "a08b2fa3-d870-4bed-8d90-e79f5c28bfc6",
   "metadata": {},
   "outputs": [],
   "source": [
    "#３層NN（バッチを一気に処理するためにちょっとめんどい実装に…）\n",
    "# Jax使うなら、jax.vmapとかでバッチ次元の拡張したほうがスマートだと思う\n",
    "def f(W, x):\n",
    "    return (jnp.sum(jnp.tile(a.reshape(len(a),1),x.shape[-1]) * jax.nn.relu(W.T @ x), axis=0))/jnp.sqrt(m)"
   ]
  },
  {
   "cell_type": "code",
   "execution_count": 6,
   "id": "531fd595-6840-47f2-90c9-9d8a108d8873",
   "metadata": {},
   "outputs": [],
   "source": [
    "def L(W):#二乗誤差\n",
    "    return 0.5*jnp.linalg.norm(f(W, X) - Y)**2"
   ]
  },
  {
   "cell_type": "code",
   "execution_count": 7,
   "id": "f4bbd6a7-81b5-475b-9985-f2315fd9e23c",
   "metadata": {},
   "outputs": [],
   "source": [
    "# @jax.jit\n",
    "def step(L, W, eta):\n",
    "    gs = jax.grad(L)(W)\n",
    "    return W - eta*gs\n",
    "    \n",
    "def GD(max_itr, eta):\n",
    "    rng = jax.random.PRNGKey(0)\n",
    "    W = jax.random.normal(subkey, (d,m))\n",
    "    ret_list = jnp.zeros(max_itr)\n",
    "    for i in range(max_itr):\n",
    "        W = step(L, W, eta)\n",
    "        ret_list = ret_list.at[i].set(L(W))\n",
    "        # print(ret_list[i])\n",
    "    return ret_list"
   ]
  },
  {
   "cell_type": "code",
   "execution_count": 8,
   "id": "89d540a8-4b71-42f4-888c-4e2cab29f62f",
   "metadata": {},
   "outputs": [],
   "source": [
    "eta = 0.9\n",
    "max_itr = 200\n",
    "L_list = GD(max_itr, eta)"
   ]
  },
  {
   "cell_type": "code",
   "execution_count": 9,
   "id": "d8ba3ed9-c7f2-47a0-9585-07625978608f",
   "metadata": {},
   "outputs": [
    {
     "data": {
      "image/png": "[encoded data removed]",
      "text/plain": [
       "<Figure size 600x400 with 1 Axes>"
      ]
     },
     "metadata": {},
     "output_type": "display_data"
    }
   ],
   "source": [
    "fig = plt.figure(figsize=(6, 4), tight_layout=True)\n",
    "ax = fig.add_subplot(111, yscale=\"log\")\n",
    "ax.plot(range(max_itr), L_list);"
   ]
  },
  {
   "cell_type": "code",
   "execution_count": null,
   "id": "e23a560a-9ecf-43ee-bc84-4c2ba88fe7a5",
   "metadata": {},
   "outputs": [],
   "source": []
  }
 ],
 "metadata": {
  "kernelspec": {
   "display_name": "Python 3 (ipykernel)",
   "language": "python",
   "name": "python3"
  },
  "language_info": {
   "codemirror_mode": {
    "name": "ipython",
    "version": 3
   },
   "file_extension": ".py",
   "mimetype": "text/x-python",
   "name": "python",
   "nbconvert_exporter": "python",
   "pygments_lexer": "ipython3",
   "version": "3.11.6"
  }
 },
 "nbformat": 4,
 "nbformat_minor": 5
}

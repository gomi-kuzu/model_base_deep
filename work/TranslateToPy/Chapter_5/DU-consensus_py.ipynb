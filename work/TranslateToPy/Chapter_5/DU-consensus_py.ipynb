{
 "cells": [
  {
   "cell_type": "code",
   "execution_count": 1,
   "id": "c4cad470-e4c4-4cf9-b4c9-3e590e390e10",
   "metadata": {},
   "outputs": [],
   "source": [
    "import numpy as np\n",
    "import numpy.linalg as LA\n",
    "import jax\n",
    "import jax.numpy as jnp\n",
    "import jax.numpy.linalg as JLA\n",
    "\n",
    "from jax.example_libraries import optimizers\n",
    "\n",
    "import pandas as pd\n",
    "import matplotlib.pyplot as plt\n",
    "from tqdm.notebook import trange\n",
    "from functools import partial\n",
    "from sklearn.datasets import fetch_openml\n",
    "import networkx as nx"
   ]
  },
  {
   "cell_type": "code",
   "execution_count": 27,
   "id": "64c786fd-37e2-4fc8-8470-f0b866b2e7a6",
   "metadata": {},
   "outputs": [],
   "source": [
    "n = 34\n",
    "g = nx.karate_club_graph()\n",
    "# L = nx.laplacian_matrix(g).toarray()] これだと変なラプラシアンがとれる？\n",
    "ad_mat = np.sign(nx.adjacency_matrix(g).toarray())\n",
    "dg_mat = np.diag(np.sum(ad_mat, axis=0))\n",
    "L = dg_mat - ad_mat + 1e-12*np.eye(len(ad_mat))\n",
    "eig = LA.eigvals(L)\n",
    "lmin = np.partition(eig, 1)[1]\n",
    "lmax = np.partition(eig, n-1)[n-1]\n",
    "# lmax = np.max(eig)\n",
    "eta_opt = 2.0/(lmin + lmax)\n",
    "\n",
    "K = 200\n",
    "num_itr = 75\n",
    "adam_lr = 5e-4\n",
    "max_inner = 50\n",
    "L = jnp.array(L)"
   ]
  },
  {
   "cell_type": "code",
   "execution_count": null,
   "id": "cd0590ac-4f55-4d8a-91c6-e5fefd60e3fd",
   "metadata": {},
   "outputs": [],
   "source": []
  }
 ],
 "metadata": {
  "kernelspec": {
   "display_name": "Python 3 (ipykernel)",
   "language": "python",
   "name": "python3"
  },
  "language_info": {
   "codemirror_mode": {
    "name": "ipython",
    "version": 3
   },
   "file_extension": ".py",
   "mimetype": "text/x-python",
   "name": "python",
   "nbconvert_exporter": "python",
   "pygments_lexer": "ipython3",
   "version": "3.11.6"
  }
 },
 "nbformat": 4,
 "nbformat_minor": 5
}

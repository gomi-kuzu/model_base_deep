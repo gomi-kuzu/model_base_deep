{
 "cells": [
  {
   "cell_type": "markdown",
   "id": "43d9ae1a-e33d-43fe-8078-23df1bf9dbce",
   "metadata": {},
   "source": [
    "# 平均合意プロトコルにおける収束加速"
   ]
  },
  {
   "cell_type": "code",
   "execution_count": 39,
   "id": "c4cad470-e4c4-4cf9-b4c9-3e590e390e10",
   "metadata": {},
   "outputs": [],
   "source": [
    "import numpy as np\n",
    "import numpy.linalg as LA\n",
    "import jax\n",
    "import jax.numpy as jnp\n",
    "\n",
    "from jax.example_libraries import optimizers\n",
    "\n",
    "import pandas as pd\n",
    "import matplotlib.pyplot as plt\n",
    "from tqdm.notebook import trange\n",
    "from functools import partial\n",
    "import networkx as nx"
   ]
  },
  {
   "cell_type": "code",
   "execution_count": 24,
   "id": "64c786fd-37e2-4fc8-8470-f0b866b2e7a6",
   "metadata": {},
   "outputs": [],
   "source": [
    "n = 34\n",
    "g = nx.karate_club_graph()\n",
    "# L = nx.laplacian_matrix(g).toarray()] これだと変なラプラシアンがとれる？\n",
    "ad_mat = np.sign(nx.adjacency_matrix(g).toarray())\n",
    "dg_mat = np.diag(np.sum(ad_mat, axis=0))\n",
    "L = dg_mat - ad_mat + 1e-12*np.eye(len(ad_mat))\n",
    "eig = LA.eigvals(L)\n",
    "lmin = np.partition(eig, 1)[1]\n",
    "lmax = np.partition(eig, n-1)[n-1]\n",
    "# lmax = np.max(eig)\n",
    "eta_opt = 2.0/(lmin + lmax)\n",
    "\n",
    "K = 200\n",
    "num_itr = 75\n",
    "adam_lr = 5e-4\n",
    "max_inner = 50\n",
    "L = jnp.array(L)"
   ]
  },
  {
   "cell_type": "markdown",
   "id": "4ae95151-5745-4917-9c19-2340a1ff8af6",
   "metadata": {},
   "source": [
    "### ミニバッチ生成関数\n",
    "\n",
    "ミニバッチ生成関数の返り値は、ノード初期値とその平均値ベクトルからなるミニバッチとなる。"
   ]
  },
  {
   "cell_type": "code",
   "execution_count": 25,
   "id": "e1303912-309b-4847-b7e3-b8a67a3a10ee",
   "metadata": {},
   "outputs": [],
   "source": [
    "def mini_batch(K):\n",
    "    x0 = jnp.array(np.random.randn(n, K))\n",
    "    c = jnp.sum(x0, axis=0)\n",
    "    r = jnp.tile(c, (n, 1))/n\n",
    "    return x0, r"
   ]
  },
  {
   "cell_type": "markdown",
   "id": "ad80ccea-d50e-4a90-9dcd-b2fea22cf887",
   "metadata": {},
   "source": [
    "### 固定ステップサイズの平均合意プロトコル (普通のコンセンサスプロトコル)"
   ]
  },
  {
   "cell_type": "code",
   "execution_count": 26,
   "id": "cd0590ac-4f55-4d8a-91c6-e5fefd60e3fd",
   "metadata": {},
   "outputs": [],
   "source": [
    "def consensus(max_itr, x0):\n",
    "    x = x0\n",
    "    for i in range(max_itr):\n",
    "        x = (jnp.eye(len(L)) - eta_opt*L)@x\n",
    "    return x"
   ]
  },
  {
   "cell_type": "code",
   "execution_count": 27,
   "id": "b55c0419-9e1b-4a3a-983d-4d8e5d5b4f6d",
   "metadata": {},
   "outputs": [],
   "source": [
    "@jax.jit\n",
    "def get_dot(x):\n",
    "    return x @ x.T\n",
    "batch_get_dot = jax.vmap(get_dot, in_axes=-1, out_axes=-1)"
   ]
  },
  {
   "cell_type": "code",
   "execution_count": 28,
   "id": "c9108816-526a-41a1-b589-84479087eab3",
   "metadata": {},
   "outputs": [],
   "source": [
    "def comp_mes(max_itr):\n",
    "    x0, c = mini_batch(K)\n",
    "    x_hat = consensus(max_itr, x0)\n",
    "    return jnp.sum(batch_get_dot(c-x_hat))/K"
   ]
  },
  {
   "cell_type": "code",
   "execution_count": 29,
   "id": "1e75826a-82c0-4886-be89-195a821c2294",
   "metadata": {},
   "outputs": [],
   "source": [
    "consensus_mse = [float(comp_mes(i+1)) for i in range(num_itr)]"
   ]
  },
  {
   "cell_type": "markdown",
   "id": "ccab0f89-6139-49ac-9fe0-8215ba02465f",
   "metadata": {},
   "source": [
    "### 損失関数の定義"
   ]
  },
  {
   "cell_type": "code",
   "execution_count": 30,
   "id": "3b08e0fc-3750-4053-9ad9-be135f94e1e6",
   "metadata": {},
   "outputs": [],
   "source": [
    "df = pd.DataFrame()\n",
    "df[\"Iteration\"] = range(1, num_itr+1)\n",
    "df[\"Consensus(fixed step size)\"] = consensus_mse"
   ]
  },
  {
   "cell_type": "code",
   "execution_count": 31,
   "id": "9f4f7793-ff1c-4119-ab46-a0b35e27abc6",
   "metadata": {},
   "outputs": [],
   "source": [
    "def DU_consensus(max_itr, x0, eta):\n",
    "    x = x0\n",
    "    for i in range(max_itr):\n",
    "        x = (jnp.eye(len(L)) - eta[i]*L)@x\n",
    "    return x"
   ]
  },
  {
   "cell_type": "code",
   "execution_count": 32,
   "id": "4c219650-e99f-4843-8483-9a3670e5ee8b",
   "metadata": {},
   "outputs": [],
   "source": [
    "def loss(max_itr, x_opt, x0, eta):\n",
    "    x_hat = DU_consensus(max_itr, x0, eta)\n",
    "    return jnp.sum(batch_get_dot(x_opt - x_hat))/K"
   ]
  },
  {
   "cell_type": "markdown",
   "id": "0bc8baa8-69cf-4f7f-adcf-49f0ab227c1f",
   "metadata": {},
   "source": [
    "### 訓練関数の定義"
   ]
  },
  {
   "cell_type": "code",
   "execution_count": 33,
   "id": "e0f53912-6009-4e00-b293-8e6f86aa44d0",
   "metadata": {},
   "outputs": [],
   "source": [
    "opt_init, opt_update, get_params = optimizers.adam(adam_lr)\n",
    "\n",
    "@partial(jax.jit, static_argnums=0)\n",
    "def step(max_itr, x_opt, y, step_num, opt_state):\n",
    "    value, grads = jax.value_and_grad(loss, argnums=-1)(max_itr, x_opt, y, get_params(opt_state))\n",
    "    new_opt_state = opt_update(step_num, grads, opt_state)\n",
    "    return value, new_opt_state\n",
    "\n",
    "def train(eta):\n",
    "    opt_state = opt_init(eta)\n",
    "    for itr in trange(num_itr, leave=False):\n",
    "        for i in range(max_inner):\n",
    "            y, x_opt = mini_batch(K)\n",
    "            value, opt_state = step(itr+1, x_opt, y, i, opt_state)\n",
    "        print(\"\\r\"+\"\\rloss:{}\".format(value), end=\" \")\n",
    "    return get_params(opt_state)"
   ]
  },
  {
   "cell_type": "code",
   "execution_count": 34,
   "id": "0416df76-b923-499b-9312-70fa71da57b7",
   "metadata": {},
   "outputs": [],
   "source": [
    "def comp_mse_DU_consensus(max_itr, eta):\n",
    "    x0, c = mini_batch(K)\n",
    "    x_hat = DU_consensus(max_itr, x0, eta)\n",
    "    return jnp.sum(batch_get_dot(c-x_hat))/K"
   ]
  },
  {
   "cell_type": "markdown",
   "id": "1fc3a076-d938-424d-bcf6-a5884b9bdffd",
   "metadata": {},
   "source": [
    "### 学習過程"
   ]
  },
  {
   "cell_type": "code",
   "execution_count": 35,
   "id": "52fc1693-157a-488b-a554-45ec669c12bb",
   "metadata": {},
   "outputs": [
    {
     "data": {
      "application/vnd.jupyter.widget-view+json": {
       "model_id": "",
       "version_major": 2,
       "version_minor": 0
      },
      "text/plain": [
       "  0%|          | 0/75 [00:00<?, ?it/s]"
      ]
     },
     "metadata": {},
     "output_type": "display_data"
    },
    {
     "name": "stdout",
     "output_type": "stream",
     "text": [
      "loss:0.00046057216241024435 "
     ]
    }
   ],
   "source": [
    "eta_init = jnp.zeros(num_itr)\n",
    "eta_trained = train(eta_init)"
   ]
  },
  {
   "cell_type": "code",
   "execution_count": 36,
   "id": "8863c3f3-8c77-4aaa-b41e-a69207189691",
   "metadata": {},
   "outputs": [],
   "source": [
    "DU_consensus_mse = [float(comp_mse_DU_consensus(i+1, eta_trained)) for i in range(num_itr)]"
   ]
  },
  {
   "cell_type": "code",
   "execution_count": 37,
   "id": "5a7a19b9-b3f9-468e-b433-e4087d5536e7",
   "metadata": {},
   "outputs": [],
   "source": [
    "df[\"DU-consensus\"] = DU_consensus_mse"
   ]
  },
  {
   "cell_type": "markdown",
   "id": "ecfc69b6-0e3d-4e80-a0e0-9a101e8779b7",
   "metadata": {},
   "source": [
    "### 合意状態からの誤差(MSE)のプロット"
   ]
  },
  {
   "cell_type": "code",
   "execution_count": 38,
   "id": "6d77dc61-a3a3-4b8e-b1f1-f9aa167da004",
   "metadata": {},
   "outputs": [
    {
     "data": {
      "image/png": "[encoded data removed]",
      "text/plain": [
       "<Figure size 640x480 with 1 Axes>"
      ]
     },
     "metadata": {},
     "output_type": "display_data"
    }
   ],
   "source": [
    "df.plot(x = \"Iteration\", y = df.columns[1:])\n",
    "plt.yscale(\"log\")"
   ]
  },
  {
   "cell_type": "code",
   "execution_count": null,
   "id": "0cf34f2f-a23d-4aee-9049-1d6e77ab46d3",
   "metadata": {},
   "outputs": [],
   "source": []
  }
 ],
 "metadata": {
  "kernelspec": {
   "display_name": "Python 3 (ipykernel)",
   "language": "python",
   "name": "python3"
  },
  "language_info": {
   "codemirror_mode": {
    "name": "ipython",
    "version": 3
   },
   "file_extension": ".py",
   "mimetype": "text/x-python",
   "name": "python",
   "nbconvert_exporter": "python",
   "pygments_lexer": "ipython3",
   "version": "3.11.6"
  }
 },
 "nbformat": 4,
 "nbformat_minor": 5
}

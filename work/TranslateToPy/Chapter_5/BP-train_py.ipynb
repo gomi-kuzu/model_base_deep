{
 "cells": [
  {
   "cell_type": "code",
   "execution_count": 1,
   "id": "b5b3854d-76d5-42be-bb5c-2812b51ce059",
   "metadata": {},
   "outputs": [],
   "source": [
    "import alist_loader\n",
    "import numpy as np\n",
    "import jax\n",
    "import jax.numpy as jnp\n",
    "\n",
    "import matplotlib.pyplot as plt\n",
    "import japanize_matplotlib\n",
    "from jax.example_libraries import optimizers\n",
    "from functools import partial"
   ]
  },
  {
   "cell_type": "code",
   "execution_count": 2,
   "id": "e70f1d96-9712-462c-88b4-1f223ab4a8af",
   "metadata": {},
   "outputs": [],
   "source": [
    "filename = \"../../DU-Book/Chapter_5/BCH_31_16_3_strip.alist\""
   ]
  },
  {
   "cell_type": "code",
   "execution_count": 3,
   "id": "851e07ff-ad4c-4a09-b197-152901a9bd54",
   "metadata": {},
   "outputs": [],
   "source": [
    "noise_std = 0.5\n",
    "K = 100\n",
    "bp_itr = 5"
   ]
  },
  {
   "cell_type": "code",
   "execution_count": 7,
   "id": "da18c61d-5bff-4ec1-b23e-9b3f74c40881",
   "metadata": {},
   "outputs": [
    {
     "name": "stdout",
     "output_type": "stream",
     "text": [
      "n = 31, m = 15\n",
      "cmap = 7, rmap = 8\n"
     ]
    }
   ],
   "source": [
    "H, U, V = alist_loader.load_alist(filename)\n",
    "H = jnp.array(H)\n",
    "U = jnp.array(U)\n",
    "V = jnp.array(V)"
   ]
  },
  {
   "cell_type": "code",
   "execution_count": 52,
   "id": "ca5e190d-3787-48f1-8182-cd16480e2ca2",
   "metadata": {},
   "outputs": [],
   "source": [
    "n = H.shape[1]\n",
    "m = H.shape[0]"
   ]
  },
  {
   "cell_type": "code",
   "execution_count": 8,
   "id": "91805c1f-2ff7-4699-a792-bc722888beaf",
   "metadata": {},
   "outputs": [],
   "source": [
    "def bmod(x):\n",
    "    return x - 2*jnp.floor(x/2)"
   ]
  },
  {
   "cell_type": "code",
   "execution_count": 28,
   "id": "e7a1ffc4-99d6-4781-8fa3-974b2a6d53f2",
   "metadata": {},
   "outputs": [],
   "source": [
    "@jax.jit\n",
    "def parity_check(x):\n",
    "    print(jnp.sum(H@x))\n",
    "    tmp = jnp.where(jnp.sum(bmod(H@x)) > 0, 1, 0)\n",
    "    return tmp\n",
    "               "
   ]
  },
  {
   "cell_type": "code",
   "execution_count": 59,
   "id": "f9433878-d286-481c-ad1a-2e5af303daa8",
   "metadata": {},
   "outputs": [],
   "source": [
    "def random_codeword():\n",
    "    x = jnp.array(np.random.randint(0, 2, n))\n",
    "    for i in range(1, m+1):\n",
    "        k = m - i + 1\n",
    "        parity = 0\n",
    "        for j in range(k+1, n+1):\n",
    "            parity += H[k-1,j-1] * x[j-1]\n",
    "        x = x.at[k-1].set(parity % 2)\n",
    "    p = parity_check(x)\n",
    "    if p == 0:\n",
    "        return x\n",
    "    else:\n",
    "        print(\"encoding error!\")\n",
    "    return x"
   ]
  },
  {
   "cell_type": "code",
   "execution_count": 60,
   "id": "c41fcdab-15cc-4314-8248-486a3f347b36",
   "metadata": {},
   "outputs": [
    {
     "data": {
      "text/plain": [
       "Array(1., dtype=float32, weak_type=True)"
      ]
     },
     "execution_count": 60,
     "metadata": {},
     "output_type": "execute_result"
    }
   ],
   "source": [
    "bmod(7)"
   ]
  },
  {
   "cell_type": "code",
   "execution_count": 61,
   "id": "63f1db80-fe72-44e0-b261-c207df84880c",
   "metadata": {},
   "outputs": [
    {
     "data": {
      "text/plain": [
       "1"
      ]
     },
     "execution_count": 61,
     "metadata": {},
     "output_type": "execute_result"
    }
   ],
   "source": [
    "7%2"
   ]
  },
  {
   "cell_type": "code",
   "execution_count": 62,
   "id": "e469a8b9-9d3b-471a-b88c-e494e4dba6fa",
   "metadata": {},
   "outputs": [
    {
     "name": "stdout",
     "output_type": "stream",
     "text": [
      "Traced<ShapedArray(int32[])>with<DynamicJaxprTrace(level=1/0)>\n"
     ]
    },
    {
     "data": {
      "text/plain": [
       "Array(0, dtype=int32, weak_type=True)"
      ]
     },
     "execution_count": 62,
     "metadata": {},
     "output_type": "execute_result"
    }
   ],
   "source": [
    "x = random_codeword()\n",
    "parity_check(x)"
   ]
  },
  {
   "cell_type": "code",
   "execution_count": 71,
   "id": "f66f7301-7dda-4447-9e13-4e8184fc025d",
   "metadata": {},
   "outputs": [],
   "source": [
    "def mini_batch(K):\n",
    "    x = np.zeros((n, K))\n",
    "    y = np.zeros((n, K))\n",
    "    for j in range(1, K+1):\n",
    "        x[:, j-1] = -2*jax.device_get(random_codeword()) + 1\n",
    "        y[:, j-1] = x[:, j-1] + noise_std*np.random.randn(n)\n",
    "    return jnp.array(x), jnp.array(y)"
   ]
  },
  {
   "cell_type": "code",
   "execution_count": null,
   "id": "eb4905dc-9a0f-45cf-b49b-d3563d09d5d4",
   "metadata": {},
   "outputs": [],
   "source": []
  }
 ],
 "metadata": {
  "kernelspec": {
   "display_name": "Python 3 (ipykernel)",
   "language": "python",
   "name": "python3"
  },
  "language_info": {
   "codemirror_mode": {
    "name": "ipython",
    "version": 3
   },
   "file_extension": ".py",
   "mimetype": "text/x-python",
   "name": "python",
   "nbconvert_exporter": "python",
   "pygments_lexer": "ipython3",
   "version": "3.11.6"
  }
 },
 "nbformat": 4,
 "nbformat_minor": 5
}

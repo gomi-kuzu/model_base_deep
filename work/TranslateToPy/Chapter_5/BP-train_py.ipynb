{
 "cells": [
  {
   "cell_type": "code",
   "execution_count": 1,
   "id": "b5b3854d-76d5-42be-bb5c-2812b51ce059",
   "metadata": {},
   "outputs": [],
   "source": [
    "import alist_loader\n",
    "import numpy as np\n",
    "import jax\n",
    "import jax.numpy as jnp\n",
    "\n",
    "import matplotlib.pyplot as plt\n",
    "import japanize_matplotlib\n",
    "from jax.example_libraries import optimizers\n",
    "from tqdm.notebook import trange\n",
    "from functools import partial"
   ]
  },
  {
   "cell_type": "code",
   "execution_count": 2,
   "id": "e70f1d96-9712-462c-88b4-1f223ab4a8af",
   "metadata": {},
   "outputs": [],
   "source": [
    "filename = \"../../DU-Book/Chapter_5/BCH_31_16_3_strip.alist\""
   ]
  },
  {
   "cell_type": "code",
   "execution_count": 3,
   "id": "851e07ff-ad4c-4a09-b197-152901a9bd54",
   "metadata": {},
   "outputs": [],
   "source": [
    "noise_std = 0.5\n",
    "K = 100\n",
    "bp_itr = 5"
   ]
  },
  {
   "cell_type": "code",
   "execution_count": 4,
   "id": "da18c61d-5bff-4ec1-b23e-9b3f74c40881",
   "metadata": {},
   "outputs": [
    {
     "name": "stdout",
     "output_type": "stream",
     "text": [
      "n = 31, m = 15\n",
      "cmap = 7, rmap = 8\n"
     ]
    }
   ],
   "source": [
    "H, U, V = alist_loader.load_alist(filename)\n",
    "H = jnp.array(H)\n",
    "U = jnp.array(U)\n",
    "V = jnp.array(V)"
   ]
  },
  {
   "cell_type": "code",
   "execution_count": 5,
   "id": "ca5e190d-3787-48f1-8182-cd16480e2ca2",
   "metadata": {},
   "outputs": [],
   "source": [
    "n = H.shape[1]\n",
    "m = H.shape[0]\n",
    "esize = U.shape[1]"
   ]
  },
  {
   "cell_type": "code",
   "execution_count": 6,
   "id": "91805c1f-2ff7-4699-a792-bc722888beaf",
   "metadata": {},
   "outputs": [],
   "source": [
    "def bmod(x):\n",
    "    return x - 2*jnp.floor(x/2)"
   ]
  },
  {
   "cell_type": "code",
   "execution_count": 7,
   "id": "e7a1ffc4-99d6-4781-8fa3-974b2a6d53f2",
   "metadata": {},
   "outputs": [],
   "source": [
    "@jax.jit\n",
    "def parity_check(x):\n",
    "    print(jnp.sum(H@x))\n",
    "    tmp = jnp.where(jnp.sum(bmod(H@x)) > 0, 1, 0)\n",
    "    return tmp\n",
    "               "
   ]
  },
  {
   "cell_type": "code",
   "execution_count": 8,
   "id": "f9433878-d286-481c-ad1a-2e5af303daa8",
   "metadata": {},
   "outputs": [],
   "source": [
    "def random_codeword():\n",
    "    x = jnp.array(np.random.randint(0, 2, n))\n",
    "    for i in range(1, m+1):\n",
    "        k = m - i + 1\n",
    "        parity = 0\n",
    "        for j in range(k+1, n+1):\n",
    "            parity += H[k-1,j-1] * x[j-1]\n",
    "        x = x.at[k-1].set(parity % 2)\n",
    "    p = parity_check(x)\n",
    "    if p == 0:\n",
    "        return x\n",
    "    else:\n",
    "        print(\"encoding error!\")\n",
    "    return x"
   ]
  },
  {
   "cell_type": "code",
   "execution_count": 9,
   "id": "e469a8b9-9d3b-471a-b88c-e494e4dba6fa",
   "metadata": {},
   "outputs": [
    {
     "name": "stdout",
     "output_type": "stream",
     "text": [
      "Traced<ShapedArray(int32[])>with<DynamicJaxprTrace(level=1/0)>\n"
     ]
    },
    {
     "data": {
      "text/plain": [
       "Array(0, dtype=int32, weak_type=True)"
      ]
     },
     "execution_count": 9,
     "metadata": {},
     "output_type": "execute_result"
    }
   ],
   "source": [
    "x = random_codeword()\n",
    "parity_check(x)"
   ]
  },
  {
   "cell_type": "code",
   "execution_count": 10,
   "id": "f66f7301-7dda-4447-9e13-4e8184fc025d",
   "metadata": {},
   "outputs": [],
   "source": [
    "def mini_batch(K):\n",
    "    x = np.zeros((n, K))\n",
    "    y = np.zeros((n, K))\n",
    "    for j in range(1, K+1):\n",
    "        x[:, j-1] = -2*jax.device_get(random_codeword()) + 1\n",
    "        y[:, j-1] = x[:, j-1] + noise_std*np.random.randn(n)\n",
    "    return jnp.array(x), jnp.array(y)"
   ]
  },
  {
   "cell_type": "code",
   "execution_count": 11,
   "id": "f65aafb0-eb5b-4e9e-93d5-482be5bc19bc",
   "metadata": {},
   "outputs": [],
   "source": [
    "eps = 1e-7\n",
    "\n",
    "@partial(jax.jit, static_argnums = 1)\n",
    "def BP_decoding(y, max_itr, xi):\n",
    "    alpha = jnp.zeros((esize, K))\n",
    "    beta = jnp.zeros((esize, K))\n",
    "    Lambda = 2 * y/(noise_std**2)\n",
    "    for i in range(max_itr):\n",
    "        beta = (U.T @ U - jnp.eye(U.shape[1])) @ alpha + U.T@Lambda\n",
    "        beta = jnp.tile(xi[:, i].reshape([-1,1]), (1, beta.shape[1])) * beta\n",
    "        tmp = jnp.exp((V.T @ V - jnp.eye(V.shape[1])) @ jnp.log(jnp.abs(jnp.tanh(beta/2))))\n",
    "        alpha_abs = 2*jnp.arctanh((1-eps)*jax.nn.hard_tanh(tmp)) #epsが小さすぎるとinfが出る\n",
    "        tmp = -2*V.T@bmod(V@((-jnp.sign(beta) + 1)/2)) + 1\n",
    "        alpha_sign = tmp * jnp.sign(beta)\n",
    "        alpha = alpha_sign * alpha_abs\n",
    "    gamma = U @ alpha + Lambda\n",
    "    return jnp.tanh(gamma)"
   ]
  },
  {
   "cell_type": "code",
   "execution_count": 12,
   "id": "eb4905dc-9a0f-45cf-b49b-d3563d09d5d4",
   "metadata": {},
   "outputs": [
    {
     "data": {
      "text/plain": [
       "Array([[False, False, False, ..., False, False, False],\n",
       "       [False, False, False, ..., False, False, False],\n",
       "       [False, False, False, ..., False, False, False],\n",
       "       ...,\n",
       "       [False, False, False, ..., False, False, False],\n",
       "       [False, False, False, ..., False, False, False],\n",
       "       [False, False, False, ..., False, False, False]], dtype=bool)"
      ]
     },
     "execution_count": 12,
     "metadata": {},
     "output_type": "execute_result"
    }
   ],
   "source": [
    "x, y = mini_batch(K)\n",
    "xi = jnp.ones((esize, bp_itr))\n",
    "x_hat = jnp.sign(BP_decoding(y, bp_itr, xi))\n",
    "x_hat != x"
   ]
  },
  {
   "cell_type": "code",
   "execution_count": 13,
   "id": "27f44b45-84cf-4472-8166-5b81a04de3b8",
   "metadata": {},
   "outputs": [
    {
     "data": {
      "text/plain": [
       "Array(0, dtype=int32)"
      ]
     },
     "execution_count": 13,
     "metadata": {},
     "output_type": "execute_result"
    }
   ],
   "source": [
    "jnp.sum(x_hat != x)"
   ]
  },
  {
   "cell_type": "code",
   "execution_count": 14,
   "id": "55e5b6cd-1407-4d56-9108-5e8490d154dd",
   "metadata": {},
   "outputs": [
    {
     "data": {
      "text/plain": [
       "Array(83, dtype=int32)"
      ]
     },
     "execution_count": 14,
     "metadata": {},
     "output_type": "execute_result"
    }
   ],
   "source": [
    "jnp.sum(jnp.sign(y) != x)"
   ]
  },
  {
   "cell_type": "code",
   "execution_count": 15,
   "id": "75f271e2-cfa7-4f43-aed5-26aa196c2ead",
   "metadata": {},
   "outputs": [],
   "source": [
    "@jax.jit\n",
    "def get_dot(x):\n",
    "    return x @ x.T\n",
    "batch_get_dot = jax.vmap(get_dot, in_axes=-1, out_axes=-1)"
   ]
  },
  {
   "cell_type": "code",
   "execution_count": 16,
   "id": "46c5c92d-5762-403e-b77e-3dab81f9a967",
   "metadata": {},
   "outputs": [],
   "source": [
    "def loss(x, y, xi):\n",
    "    x_hat = BP_decoding(y, bp_itr, xi)\n",
    "    return jnp.sum(batch_get_dot(x_hat - y))/K"
   ]
  },
  {
   "cell_type": "code",
   "execution_count": 31,
   "id": "b36cefa4-6e1a-4e6a-8558-43f518e2b4cc",
   "metadata": {},
   "outputs": [],
   "source": [
    "train_itr = 500\n",
    "adam_lr = 1e-5\n",
    "\n",
    "opt_init, opt_update, get_params = optimizers.adam(adam_lr)\n",
    "\n",
    "@partial(jax.jit, static_argnums=2)\n",
    "def step(x, y, step_num, opt_state):\n",
    "    value, grads = jax.value_and_grad(loss, argnums=-1)(x, y, get_params(opt_state))\n",
    "    new_opt_state = opt_update(step_num, grads, opt_state)\n",
    "    return value, new_opt_state\n",
    "\n",
    "def train(xi):\n",
    "    opt_state = opt_init(xi)\n",
    "    for itr in trange(train_itr, leave=False):\n",
    "        x, y = mini_batch(K)\n",
    "        value, opt_state = step(x, y, itr, opt_state)\n",
    "        print(\"\\r\"+\"\\rloss:{}\".format(value), end=\" \")\n",
    "    return get_params(opt_state)"
   ]
  },
  {
   "cell_type": "code",
   "execution_count": 32,
   "id": "9345d82c-d669-4ac9-8149-4f753406c106",
   "metadata": {},
   "outputs": [
    {
     "data": {
      "application/vnd.jupyter.widget-view+json": {
       "model_id": "",
       "version_major": 2,
       "version_minor": 0
      },
      "text/plain": [
       "  0%|          | 0/500 [00:00<?, ?it/s]"
      ]
     },
     "metadata": {},
     "output_type": "display_data"
    },
    {
     "name": "stdout",
     "output_type": "stream",
     "text": [
      "loss:7.838134765625 18  "
     ]
    }
   ],
   "source": [
    "xi_init = jnp.ones((esize, bp_itr))\n",
    "xi_trained = train(xi_init)"
   ]
  },
  {
   "cell_type": "code",
   "execution_count": 21,
   "id": "9b88b25f-cc75-4937-8940-f97432e50a77",
   "metadata": {},
   "outputs": [],
   "source": [
    "def get_num_of_error(xi, num_loop = 10):\n",
    "    total_syms = num_loop * n * K\n",
    "    error_syms = 0\n",
    "    for i in range(num_loop):\n",
    "        x, y = mini_batch(K)\n",
    "        x_hat = BP_decoding(y, bp_itr, xi)\n",
    "        error_syms += jnp.sum(jnp.sign(x_hat) != x)\n",
    "    return error_syms, total_syms"
   ]
  },
  {
   "cell_type": "code",
   "execution_count": 22,
   "id": "176c456c-0f7e-436e-93f9-eb0dc1eab979",
   "metadata": {},
   "outputs": [],
   "source": [
    "error_syms, total_syms = get_num_of_error(xi_init)"
   ]
  },
  {
   "cell_type": "code",
   "execution_count": 23,
   "id": "4d675025-b069-44a7-bfa4-20eaed1fa01e",
   "metadata": {},
   "outputs": [
    {
     "name": "stdout",
     "output_type": "stream",
     "text": [
      "total_syms = 31000\n",
      "error_syms = 14\n",
      "symbols error rate = 0.00045161289745010436\n"
     ]
    }
   ],
   "source": [
    "print(\"total_syms = {}\".format(total_syms))\n",
    "print(\"error_syms = {}\".format(error_syms))\n",
    "print(\"symbols error rate = {}\".format(error_syms/total_syms))"
   ]
  },
  {
   "cell_type": "code",
   "execution_count": 33,
   "id": "b1410b7a-77af-4cab-b499-ac241b705d46",
   "metadata": {},
   "outputs": [],
   "source": [
    "error_syms, total_syms = get_num_of_error(xi_trained)"
   ]
  },
  {
   "cell_type": "code",
   "execution_count": 25,
   "id": "1268ec71-5f4b-41be-a836-115c967d422b",
   "metadata": {},
   "outputs": [
    {
     "name": "stdout",
     "output_type": "stream",
     "text": [
      "total_syms = 31000\n",
      "error_syms = 14\n",
      "symbols error rate = 0.00045161289745010436\n"
     ]
    }
   ],
   "source": [
    "print(\"total_syms = {}\".format(total_syms))\n",
    "print(\"error_syms = {}\".format(error_syms))\n",
    "print(\"symbols error rate = {}\".format(error_syms/total_syms))"
   ]
  },
  {
   "cell_type": "code",
   "execution_count": null,
   "id": "a80a142c-3792-4592-b063-d9411f2167ee",
   "metadata": {},
   "outputs": [],
   "source": []
  }
 ],
 "metadata": {
  "kernelspec": {
   "display_name": "Python 3 (ipykernel)",
   "language": "python",
   "name": "python3"
  },
  "language_info": {
   "codemirror_mode": {
    "name": "ipython",
    "version": 3
   },
   "file_extension": ".py",
   "mimetype": "text/x-python",
   "name": "python",
   "nbconvert_exporter": "python",
   "pygments_lexer": "ipython3",
   "version": "3.11.6"
  }
 },
 "nbformat": 4,
 "nbformat_minor": 5
}

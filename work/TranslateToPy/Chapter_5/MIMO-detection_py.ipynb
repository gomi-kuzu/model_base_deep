{
 "cells": [
  {
   "cell_type": "code",
   "execution_count": 1,
   "id": "daaf5394-2705-4fcf-8fc9-5c729c0f734c",
   "metadata": {},
   "outputs": [],
   "source": [
    "import numpy as np\n",
    "import numpy.linalg as LA\n",
    "import jax\n",
    "import jax.numpy as jnp\n",
    "import jax.numpy.linalg as JLA\n",
    "\n",
    "from jax.example_libraries import optimizers\n",
    "\n",
    "import optax\n",
    "\n",
    "from tqdm.notebook import trange\n",
    "from functools import partial\n",
    "from flax import linen as nn\n",
    "from flax.experimental import nnx\n",
    "from flax.training import train_state"
   ]
  },
  {
   "cell_type": "code",
   "execution_count": 2,
   "id": "67c8c060-663e-4e57-b46b-d7eeccac16c9",
   "metadata": {},
   "outputs": [],
   "source": [
    "K = 50 \n",
    "noise_std = 0.75\n",
    "n = 4\n",
    "h = 50\n",
    "H = jnp.array(np.random.randn(n, n))\n",
    "adam_lr = 0.01"
   ]
  },
  {
   "cell_type": "code",
   "execution_count": 3,
   "id": "76078382-3e7b-4802-9213-569f07752b04",
   "metadata": {},
   "outputs": [],
   "source": [
    "def mini_batch(K):\n",
    "    x = -2.0*np.random.binomial(1,0.5,size=(n, K)) + 1\n",
    "    y = H @ x + noise_std * jnp.array(np.random.randn(n, K))\n",
    "    return x.T, y.T"
   ]
  },
  {
   "cell_type": "code",
   "execution_count": 4,
   "id": "729fb12a-feb0-4a21-bfae-ebbd95cac6ec",
   "metadata": {},
   "outputs": [],
   "source": [
    "class Detector(nn.Module):\n",
    "    hidden_dim : int\n",
    "    output_dim : int\n",
    "    \n",
    "    @nn.compact\n",
    "    def __call__(self, x):\n",
    "        x = nn.Dense(self.hidden_dim)(x)\n",
    "        x = nnx.relu(x)\n",
    "        x = nn.Dense(self.hidden_dim)(x)\n",
    "        x = nnx.relu(x)\n",
    "        x = nn.Dense(self.output_dim)(x)\n",
    "        x = nnx.tanh(x)        \n",
    "        return x"
   ]
  },
  {
   "cell_type": "code",
   "execution_count": 5,
   "id": "881fc70a-ae2d-4eff-b246-f8e9dfafe6f9",
   "metadata": {},
   "outputs": [
    {
     "data": {
      "text/plain": [
       "(50, 4)"
      ]
     },
     "execution_count": 5,
     "metadata": {},
     "output_type": "execute_result"
    }
   ],
   "source": [
    "x, y = mini_batch(K)\n",
    "detector = Detector(hidden_dim=h, output_dim=n)\n",
    "key = jax.random.PRNGKey(0) \n",
    "params = detector.init(key, x[:1])[\"params\"]\n",
    "detector.apply({\"params\":params}, x).shape"
   ]
  },
  {
   "cell_type": "code",
   "execution_count": 6,
   "id": "02ee7ce0-14b1-4dae-b94c-8c9199eb8f7a",
   "metadata": {},
   "outputs": [],
   "source": [
    "@jax.jit\n",
    "def get_dot(x):\n",
    "    return x @ x.T\n",
    "batch_get_dot = jax.vmap(get_dot, in_axes=0, out_axes=0)"
   ]
  },
  {
   "cell_type": "code",
   "execution_count": 7,
   "id": "cc48ee35-d1fd-4ed8-81a3-a0ac19729c0b",
   "metadata": {},
   "outputs": [],
   "source": [
    "@jax.jit\n",
    "def loss_func(X, Y, params):\n",
    "    X_hat = detector.apply({\"params\":params}, Y)\n",
    "    loss = jnp.sum(batch_get_dot(X_hat - X))\n",
    "    # loss = optax.squared_error(X_hat, X).mean()\n",
    "    return loss"
   ]
  },
  {
   "cell_type": "code",
   "execution_count": 8,
   "id": "55d5b399-57fa-45c1-a010-1c8573a41eba",
   "metadata": {},
   "outputs": [],
   "source": [
    "train_itr = 500\n",
    "\n",
    "opt_init, opt_update, get_params = optimizers.adam(adam_lr)\n",
    "\n",
    "def step(x, y, step_num, opt_state):\n",
    "    value, grads = jax.value_and_grad(loss_func, argnums=-1)(x, y, get_params(opt_state))\n",
    "    new_opt_state = opt_update(step_num, grads, opt_state)\n",
    "    return value, new_opt_state\n",
    "\n",
    "def train(params):\n",
    "    opt_state = opt_init(params)\n",
    "    for itr in trange(train_itr, leave=False):\n",
    "        x, y = mini_batch(K)\n",
    "        value, opt_state = step(x, y, itr, opt_state)\n",
    "        print(\"\\r\"+\"\\rloss:{}\".format(value), end=\" \")\n",
    "    return get_params(opt_state)"
   ]
  },
  {
   "cell_type": "code",
   "execution_count": 9,
   "id": "5a338e68-bd48-42fa-a4cd-5f3d893888fb",
   "metadata": {},
   "outputs": [
    {
     "data": {
      "application/vnd.jupyter.widget-view+json": {
       "model_id": "",
       "version_major": 2,
       "version_minor": 0
      },
      "text/plain": [
       "  0%|          | 0/500 [00:00<?, ?it/s]"
      ]
     },
     "metadata": {},
     "output_type": "display_data"
    },
    {
     "name": "stdout",
     "output_type": "stream",
     "text": [
      "loss:12.050289154052734 "
     ]
    }
   ],
   "source": [
    "trained_params = train(params)"
   ]
  },
  {
   "cell_type": "code",
   "execution_count": null,
   "id": "fecd698f-9216-408e-bbfe-fd8d44f263dd",
   "metadata": {},
   "outputs": [],
   "source": []
  },
  {
   "cell_type": "code",
   "execution_count": 10,
   "id": "3cd0facd-7aae-4da1-9eac-7fb6df4da5c9",
   "metadata": {},
   "outputs": [],
   "source": [
    "def neural_recog(params, num_loops = 1000) :\n",
    "    total_syms = num_loops * n * K\n",
    "    error_syms = 0\n",
    "    \n",
    "    for i in range(num_loops):\n",
    "        x, y = mini_batch(K)\n",
    "        x_hat = detector.apply({\"params\":params}, y)\n",
    "        error_syms += jnp.sum(jnp.sign(x_hat) != x)\n",
    "    return total_syms, int(error_syms)"
   ]
  },
  {
   "cell_type": "code",
   "execution_count": 11,
   "id": "50f52b71-371d-482c-8b68-7f096c07e234",
   "metadata": {},
   "outputs": [],
   "source": [
    "def ZF_recog(num_loops = 1000) :\n",
    "    total_syms = num_loops * n * K\n",
    "    error_syms = 0\n",
    "    Hinv = LA.inv(H)    \n",
    "    \n",
    "    for i in range(num_loops):\n",
    "        x, y = mini_batch(K)\n",
    "        x_hat =  Hinv @ y.T\n",
    "        error_syms += jnp.sum(jnp.sign(x_hat.T) != x)\n",
    "    return total_syms, int(error_syms)"
   ]
  },
  {
   "cell_type": "code",
   "execution_count": 12,
   "id": "fce316ac-ce7a-45f9-b74f-c83328f22251",
   "metadata": {},
   "outputs": [
    {
     "name": "stdout",
     "output_type": "stream",
     "text": [
      "total_syms =  200000\n",
      "error_syms =  5895\n",
      "symbols error rate =  0.029475\n"
     ]
    }
   ],
   "source": [
    "total_syms, error_syms = neural_recog(trained_params)\n",
    "print(\"total_syms = \", total_syms)\n",
    "print(\"error_syms = \", error_syms)\n",
    "print(\"symbols error rate = \", error_syms/total_syms)"
   ]
  },
  {
   "cell_type": "code",
   "execution_count": 13,
   "id": "b3e4dc40-de73-44fe-92f1-26ae9ed9b6f6",
   "metadata": {},
   "outputs": [
    {
     "name": "stdout",
     "output_type": "stream",
     "text": [
      "total_syms =  200000\n",
      "error_syms =  9522\n",
      "symbols error rate =  0.04761\n"
     ]
    }
   ],
   "source": [
    "total_syms, error_syms = ZF_recog()\n",
    "print(\"total_syms = \", total_syms)\n",
    "print(\"error_syms = \", error_syms)\n",
    "print(\"symbols error rate = \", error_syms/total_syms)"
   ]
  },
  {
   "cell_type": "markdown",
   "id": "4d0902c1-8620-461b-bd20-8e8daa4efce0",
   "metadata": {},
   "source": [
    "## optax版"
   ]
  },
  {
   "cell_type": "code",
   "execution_count": 14,
   "id": "89600fd8-2e02-407b-bc28-0b7197325783",
   "metadata": {},
   "outputs": [],
   "source": [
    "tx = optax.adam(learning_rate=adam_lr)\n",
    "state = train_state.TrainState.create(apply_fn=detector.apply, params=params, tx=tx)"
   ]
  },
  {
   "cell_type": "code",
   "execution_count": 15,
   "id": "6cbfc6d4-7b1c-4c32-94c7-732d393e978b",
   "metadata": {},
   "outputs": [],
   "source": [
    "def step(x, y, state):\n",
    "    value, grads = jax.value_and_grad(loss_func, argnums=-1)(x, y, state.params)\n",
    "    new_state = state.apply_gradients(grads=grads)\n",
    "    return value, new_state\n",
    "\n",
    "def train(state):\n",
    "    for itr in trange(train_itr, leave=False):\n",
    "        x, y = mini_batch(K)\n",
    "        value, state = step(x, y, state)\n",
    "        print(\"\\r\"+\"\\rloss:{}\".format(value), end=\" \")\n",
    "    return state"
   ]
  },
  {
   "cell_type": "code",
   "execution_count": 16,
   "id": "fdd69c90-9f6c-4ff5-aca7-e9fe1c08def8",
   "metadata": {},
   "outputs": [
    {
     "data": {
      "application/vnd.jupyter.widget-view+json": {
       "model_id": "",
       "version_major": 2,
       "version_minor": 0
      },
      "text/plain": [
       "  0%|          | 0/500 [00:00<?, ?it/s]"
      ]
     },
     "metadata": {},
     "output_type": "display_data"
    },
    {
     "name": "stdout",
     "output_type": "stream",
     "text": [
      "loss:11.116448402404785 "
     ]
    }
   ],
   "source": [
    "trained_state = train(state)"
   ]
  },
  {
   "cell_type": "code",
   "execution_count": 17,
   "id": "4187274e-b739-4111-9b70-393128e376d5",
   "metadata": {},
   "outputs": [
    {
     "name": "stdout",
     "output_type": "stream",
     "text": [
      "total_syms =  200000\n",
      "error_syms =  5467\n",
      "symbols error rate =  0.027335\n"
     ]
    }
   ],
   "source": [
    "total_syms, error_syms = neural_recog(trained_state.params)\n",
    "print(\"total_syms = \", total_syms)\n",
    "print(\"error_syms = \", error_syms)\n",
    "print(\"symbols error rate = \", error_syms/total_syms)"
   ]
  },
  {
   "cell_type": "code",
   "execution_count": null,
   "id": "d2796ed6-fff2-45aa-8e44-7e6b9c7ba087",
   "metadata": {},
   "outputs": [],
   "source": []
  }
 ],
 "metadata": {
  "kernelspec": {
   "display_name": "Python 3 (ipykernel)",
   "language": "python",
   "name": "python3"
  },
  "language_info": {
   "codemirror_mode": {
    "name": "ipython",
    "version": 3
   },
   "file_extension": ".py",
   "mimetype": "text/x-python",
   "name": "python",
   "nbconvert_exporter": "python",
   "pygments_lexer": "ipython3",
   "version": "3.11.6"
  }
 },
 "nbformat": 4,
 "nbformat_minor": 5
}

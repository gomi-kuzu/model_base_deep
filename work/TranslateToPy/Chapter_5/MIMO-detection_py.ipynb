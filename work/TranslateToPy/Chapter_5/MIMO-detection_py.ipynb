{
 "cells": [
  {
   "cell_type": "code",
   "execution_count": 1,
   "id": "daaf5394-2705-4fcf-8fc9-5c729c0f734c",
   "metadata": {},
   "outputs": [],
   "source": [
    "import numpy as np\n",
    "import numpy.linalg as LA\n",
    "import jax\n",
    "import jax.numpy as jnp\n",
    "import jax.numpy.linalg as JLA\n",
    "\n",
    "import pandas as pd\n",
    "import matplotlib.pyplot as plt\n",
    "import japanize_matplotlib\n",
    "from jax.example_libraries import optimizers\n",
    "from tqdm.notebook import trange\n",
    "from functools import partial\n",
    "from flax import linen as nn\n",
    "from flax.experimental import nnx\n",
    "from typing import Sequence, Callable, Tuple"
   ]
  },
  {
   "cell_type": "code",
   "execution_count": 3,
   "id": "67c8c060-663e-4e57-b46b-d7eeccac16c9",
   "metadata": {},
   "outputs": [],
   "source": [
    "K = 50 \n",
    "noise_std = 0.75\n",
    "n = 4\n",
    "h = 50\n",
    "H = jnp.array(np.random.randn(n, n))\n",
    "adam_lr = 0.01"
   ]
  },
  {
   "cell_type": "code",
   "execution_count": 26,
   "id": "76078382-3e7b-4802-9213-569f07752b04",
   "metadata": {},
   "outputs": [],
   "source": [
    "def mini_batch(K):\n",
    "    x = -2.0*np.random.binomial(1,0.5,size=(n, K)) + 1\n",
    "    y = H @ x + noise_std * jnp.array(np.random.randn(n, K))\n",
    "    return x.T, y.T"
   ]
  },
  {
   "cell_type": "code",
   "execution_count": 34,
   "id": "729fb12a-feb0-4a21-bfae-ebbd95cac6ec",
   "metadata": {},
   "outputs": [],
   "source": [
    "class Detector(nn.Module):\n",
    "    hidden_dim : int\n",
    "    output_dim : int\n",
    "    \n",
    "    @nn.compact\n",
    "    def __call__(self, x):\n",
    "        x = nn.Dense(self.hidden_dim)(x)\n",
    "        x = nnx.relu(x)\n",
    "        x = nn.Dense(self.hidden_dim)(x)\n",
    "        x = nnx.relu(x)\n",
    "        x = nn.Dense(self.output_dim)(x)\n",
    "        x = nnx.tanh(x)        \n",
    "        return x"
   ]
  },
  {
   "cell_type": "code",
   "execution_count": 35,
   "id": "881fc70a-ae2d-4eff-b246-f8e9dfafe6f9",
   "metadata": {},
   "outputs": [
    {
     "data": {
      "text/plain": [
       "(50, 4)"
      ]
     },
     "execution_count": 35,
     "metadata": {},
     "output_type": "execute_result"
    }
   ],
   "source": [
    "x, y = mini_batch(K)\n",
    "detector = Detector(hidden_dim=h, output_dim=n)\n",
    "key = jax.random.PRNGKey(0) \n",
    "params = detector.init(key, x[:1])[\"params\"]\n",
    "detector.apply({\"params\":params}, x).shape"
   ]
  },
  {
   "cell_type": "code",
   "execution_count": 36,
   "id": "02ee7ce0-14b1-4dae-b94c-8c9199eb8f7a",
   "metadata": {},
   "outputs": [],
   "source": [
    "@jax.jit\n",
    "def get_dot(x):\n",
    "    return x @ x.T\n",
    "batch_get_dot = jax.vmap(get_dot, in_axes=0, out_axes=0)"
   ]
  },
  {
   "cell_type": "code",
   "execution_count": 43,
   "id": "cc48ee35-d1fd-4ed8-81a3-a0ac19729c0b",
   "metadata": {},
   "outputs": [],
   "source": [
    "def loss_func(X, Y, params):\n",
    "    X_hat = detector.apply({\"params\":params}, Y)\n",
    "    loss = jnp.mean(batch_get_dot(X_hat - X))\n",
    "    return loss"
   ]
  },
  {
   "cell_type": "code",
   "execution_count": 41,
   "id": "55d5b399-57fa-45c1-a010-1c8573a41eba",
   "metadata": {},
   "outputs": [],
   "source": [
    "train_itr = 500\n",
    "\n",
    "opt_init, opt_update, get_params = optimizers.adam(adam_lr)\n",
    "\n",
    "def step(x, y, step_num, opt_state):\n",
    "    value, grads = jax.value_and_grad(loss_func, argnums=-1)(x, y, get_params(opt_state))\n",
    "    new_opt_state = opt_update(step_num, grads, opt_state)\n",
    "    return value, new_opt_state\n",
    "\n",
    "def train(params):\n",
    "    opt_state = opt_init(params)\n",
    "    for itr in trange(train_itr, leave=False):\n",
    "        x, y = mini_batch(K)\n",
    "        value, opt_state = step(x, y, itr, opt_state)\n",
    "        print(\"\\r\"+\"\\rloss:{}\".format(value), end=\" \")\n"
   ]
  },
  {
   "cell_type": "code",
   "execution_count": 42,
   "id": "5a338e68-bd48-42fa-a4cd-5f3d893888fb",
   "metadata": {},
   "outputs": [
    {
     "data": {
      "application/vnd.jupyter.widget-view+json": {
       "model_id": "",
       "version_major": 2,
       "version_minor": 0
      },
      "text/plain": [
       "  0%|          | 0/500 [00:00<?, ?it/s]"
      ]
     },
     "metadata": {},
     "output_type": "display_data"
    },
    {
     "name": "stdout",
     "output_type": "stream",
     "text": [
      "loss:0.33613890409469604 "
     ]
    }
   ],
   "source": [
    "trained_params = train(params)"
   ]
  },
  {
   "cell_type": "code",
   "execution_count": null,
   "id": "fecd698f-9216-408e-bbfe-fd8d44f263dd",
   "metadata": {},
   "outputs": [],
   "source": []
  }
 ],
 "metadata": {
  "kernelspec": {
   "display_name": "Python 3 (ipykernel)",
   "language": "python",
   "name": "python3"
  },
  "language_info": {
   "codemirror_mode": {
    "name": "ipython",
    "version": 3
   },
   "file_extension": ".py",
   "mimetype": "text/x-python",
   "name": "python",
   "nbconvert_exporter": "python",
   "pygments_lexer": "ipython3",
   "version": "3.11.6"
  }
 },
 "nbformat": 4,
 "nbformat_minor": 5
}

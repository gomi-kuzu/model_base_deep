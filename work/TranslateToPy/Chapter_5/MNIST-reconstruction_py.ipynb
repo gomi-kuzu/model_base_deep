{
 "cells": [
  {
   "cell_type": "code",
   "execution_count": 1,
   "id": "023afba7-fc81-4cd4-a811-dc9269a21f86",
   "metadata": {
    "editable": true,
    "slideshow": {
     "slide_type": ""
    },
    "tags": []
   },
   "outputs": [],
   "source": [
    "import numpy as np\n",
    "import numpy.linalg as LA\n",
    "import jax\n",
    "import jax.numpy as jnp\n",
    "import jax.numpy.linalg as JLA\n",
    "\n",
    "from jax.example_libraries import optimizers\n",
    "\n",
    "import optax\n",
    "\n",
    "import matplotlib.pyplot as plt\n",
    "from tqdm.notebook import trange\n",
    "from functools import partial\n",
    "from sklearn.datasets import fetch_openml"
   ]
  },
  {
   "cell_type": "code",
   "execution_count": 2,
   "id": "26c97eff-eaac-4c6e-ab4c-3d4f4bac9c5a",
   "metadata": {},
   "outputs": [
    {
     "name": "stderr",
     "output_type": "stream",
     "text": [
      "/opt/conda/lib/python3.11/site-packages/sklearn/datasets/_openml.py:1022: FutureWarning: The default value of `parser` will change from `'liac-arff'` to `'auto'` in 1.4. You can set `parser='auto'` to silence this warning. Therefore, an `ImportError` will be raised from 1.4 if the dataset is dense and pandas is not installed. Note that the pandas parser may return different data types. See the Notes Section in fetch_openml's API doc for details.\n",
      "  warn(\n"
     ]
    }
   ],
   "source": [
    "digits = fetch_openml(name='mnist_784', version=1);"
   ]
  },
  {
   "cell_type": "code",
   "execution_count": 27,
   "id": "4834a99a-721f-46e5-a6c3-f65a0aa0c443",
   "metadata": {
    "editable": true,
    "slideshow": {
     "slide_type": ""
    },
    "tags": []
   },
   "outputs": [],
   "source": [
    "K = 50\n",
    "\n",
    "n = 784\n",
    "m = 512\n",
    "num_itr = 25\n",
    "adam_lr = 5e-5\n",
    "max_inner = 50\n",
    "A = jnp.array(np.random.randn(m, n))\n",
    "gamma_opt = 1./jnp.max(JLA.eigvals(A.T@A))"
   ]
  },
  {
   "cell_type": "code",
   "execution_count": 37,
   "id": "e62c7f21-c70f-46b2-a5ea-92467afcd102",
   "metadata": {},
   "outputs": [],
   "source": [
    "xtrain = jnp.array(digits[\"data\"])[:60000,:] / 255.\n",
    "xtest = jnp.array(digits[\"data\"])[60000:,:] / 255."
   ]
  },
  {
   "cell_type": "code",
   "execution_count": 38,
   "id": "1bea57e1-4626-453f-97b2-9eb1a1757d44",
   "metadata": {},
   "outputs": [],
   "source": [
    "def train_loader(batch_size, head_idx=0, shuffle=True):\n",
    "    if shuffle:\n",
    "        idxs = jnp.array(np.random.randint(0, 60000, batch_size))\n",
    "        return jnp.copy(xtrain[idxs, :].T)\n",
    "    else:\n",
    "        return jnp.copy(xtrain[head_idx:head_idx+batch_size, :].T)\n",
    "\n",
    "def test_loader(batch_size, head_idx):\n",
    "    return jnp.copy(xtrain[head_idx:head_idx+batch_size, :].T)"
   ]
  },
  {
   "cell_type": "code",
   "execution_count": 39,
   "id": "430f5fee-e54a-4636-a1cc-138a510f106f",
   "metadata": {},
   "outputs": [],
   "source": [
    "def mini_batch(K):\n",
    "    x_org = train_loader(K)\n",
    "    y = A@x_org\n",
    "    return x_org,y\n",
    "\n",
    "def test_mini_batch(K, idx):\n",
    "    x_org = test_loader(K, idx)\n",
    "    y = A@x_org\n",
    "    return x_org, y"
   ]
  },
  {
   "cell_type": "code",
   "execution_count": 56,
   "id": "c5bd130b-de24-4969-a614-c75d63449317",
   "metadata": {},
   "outputs": [],
   "source": [
    "def show_img(x):\n",
    "    n_data = 16\n",
    "    row = 4\n",
    "    col = 4\n",
    "    fig, ax = plt.subplots(nrows=row, ncols=col,figsize=(8,6))\n",
    "\n",
    "    fig.suptitle(\"MNIST data-set\", fontsize=24)\n",
    "    for i in range(n_data):\n",
    "        _r= i//col\n",
    "        _c= i%col\n",
    "        ax[_r,_c].axes.xaxis.set_visible(False)\n",
    "        ax[_r,_c].axes.yaxis.set_visible(False)\n",
    "        ax[_r,_c].imshow(np.array(x[:,i]).reshape(28,28), cmap='bone')"
   ]
  },
  {
   "cell_type": "code",
   "execution_count": 57,
   "id": "cf30721c-f995-4672-a57c-fb81f7ee0d0d",
   "metadata": {},
   "outputs": [],
   "source": [
    "x, _ = mini_batch(K)"
   ]
  },
  {
   "cell_type": "code",
   "execution_count": 58,
   "id": "64bf9ba8-42d2-48cc-b836-ae5a230968a0",
   "metadata": {},
   "outputs": [
    {
     "data": {
      "image/png": "[encoded data removed]",
      "text/plain": [
       "<Figure size 800x600 with 16 Axes>"
      ]
     },
     "metadata": {},
     "output_type": "display_data"
    }
   ],
   "source": [
    "show_img(x)"
   ]
  },
  {
   "cell_type": "code",
   "execution_count": null,
   "id": "13253af7-6fff-47e4-8258-7d25805e9243",
   "metadata": {},
   "outputs": [],
   "source": []
  }
 ],
 "metadata": {
  "kernelspec": {
   "display_name": "Python 3 (ipykernel)",
   "language": "python",
   "name": "python3"
  },
  "language_info": {
   "codemirror_mode": {
    "name": "ipython",
    "version": 3
   },
   "file_extension": ".py",
   "mimetype": "text/x-python",
   "name": "python",
   "nbconvert_exporter": "python",
   "pygments_lexer": "ipython3",
   "version": "3.11.6"
  }
 },
 "nbformat": 4,
 "nbformat_minor": 5
}

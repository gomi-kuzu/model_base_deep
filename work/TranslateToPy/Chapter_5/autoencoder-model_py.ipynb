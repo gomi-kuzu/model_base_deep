{
 "cells": [
  {
   "cell_type": "code",
   "execution_count": 145,
   "id": "c7f5985e-9d99-43d5-9715-111a0be928da",
   "metadata": {},
   "outputs": [],
   "source": [
    "import numpy as np\n",
    "import numpy.linalg as LA\n",
    "import jax\n",
    "import jax.numpy as jnp\n",
    "import jax.numpy.linalg as JLA\n",
    "\n",
    "import pandas as pd\n",
    "import matplotlib.pyplot as plt\n",
    "import japanize_matplotlib\n",
    "from jax.example_libraries import optimizers\n",
    "from tqdm.notebook import trange\n",
    "from functools import partial\n",
    "from flax import linen as nn\n",
    "from flax.experimental import nnx\n",
    "from typing import Sequence, Callable, Tuple"
   ]
  },
  {
   "cell_type": "code",
   "execution_count": 146,
   "id": "d03d0f6c-eb13-44b6-b4e1-7e1a56091415",
   "metadata": {},
   "outputs": [],
   "source": [
    "M = 32\n",
    "K = 100\n",
    "num_hidden_units = 10 \n",
    "sigma = 0.1"
   ]
  },
  {
   "cell_type": "code",
   "execution_count": 147,
   "id": "54460955-5e08-46f1-a9a4-2ec8322821e4",
   "metadata": {},
   "outputs": [],
   "source": [
    "def mini_batch(K):\n",
    "    # r = np.zeros((M, K))\n",
    "    # row = np.random.randint(0, M, K)\n",
    "    # col = np.array(range(K))\n",
    "    # r[row, col] = 1\n",
    "    r = np.zeros((K, M))\n",
    "    row = np.array(range(K))\n",
    "    col = np.random.randint(0, M, K)\n",
    "    r[row, col] = 1\n",
    "    return jnp.array(r)"
   ]
  },
  {
   "cell_type": "code",
   "execution_count": 148,
   "id": "512ed995-d4f7-4179-aead-ebc73d4ebf2b",
   "metadata": {},
   "outputs": [],
   "source": [
    "class Encoder(nn.Module):\n",
    "    hidden_dim : int\n",
    "    normalizer : Callable\n",
    "    act_fn : Callable = nnx.relu\n",
    "    \n",
    "    @nn.compact\n",
    "    def __call__(self, x):\n",
    "        x = nn.Dense(self.hidden_dim)(x)\n",
    "        x = self.act_fn(x)\n",
    "        x = nn.Dense(2)(x)\n",
    "        x = self.normalizer(x)\n",
    "        return x"
   ]
  },
  {
   "cell_type": "code",
   "execution_count": 149,
   "id": "54d806e4-2be7-47c9-a8d3-07ff0b106d57",
   "metadata": {},
   "outputs": [],
   "source": [
    "class Decoder(nn.Module):\n",
    "    hidden_dim : int\n",
    "    output_dim : int\n",
    "    act_fn : Callable = nnx.relu\n",
    "    \n",
    "    @nn.compact\n",
    "    def __call__(self, x):\n",
    "        x = nn.Dense(self.hidden_dim)(x)\n",
    "        x = self.act_fn(x)\n",
    "        x = nn.Dense(self.output_dim)(x)\n",
    "        x = nnx.softmax(x)\n",
    "        return x"
   ]
  },
  {
   "cell_type": "code",
   "execution_count": 150,
   "id": "73b99e65-d87c-41e9-8a2b-9c6a2f66fe3f",
   "metadata": {},
   "outputs": [],
   "source": [
    "class ChannelModel(nn.Module):\n",
    "    hidden_dim : int\n",
    "    output_dim : int    \n",
    "    normalizer : Callable\n",
    "    sigma : float\n",
    "    act_fn : Callable = nnx.relu\n",
    "\n",
    "    def setup(self):\n",
    "        self.encoder = Encoder(hidden_dim = num_hidden_units, normalizer = self.normalizer)\n",
    "        self.decoder = Decoder(hidden_dim = num_hidden_units, output_dim = self.output_dim)\n",
    "    \n",
    "    @nn.compact\n",
    "    def __call__(self, x):\n",
    "        x = self.encoder(x)\n",
    "        x = x + self.sigma * jnp.array(np.random.randn(K, 2))\n",
    "        x = self.decoder(x)\n",
    "        return x"
   ]
  },
  {
   "cell_type": "code",
   "execution_count": 151,
   "id": "b328ad24-7d57-4dd8-a7d1-adbf08a4a9f6",
   "metadata": {},
   "outputs": [],
   "source": [
    "def peak_const(x):\n",
    "    return x/jnp.sqrt(max(jnp.sum(x**2, axis=1)))"
   ]
  },
  {
   "cell_type": "code",
   "execution_count": 152,
   "id": "48a18726-eb5d-4cf5-9de2-a1fed115a82d",
   "metadata": {},
   "outputs": [
    {
     "data": {
      "text/plain": [
       "(100, 32)"
      ]
     },
     "execution_count": 152,
     "metadata": {},
     "output_type": "execute_result"
    }
   ],
   "source": [
    "x = mini_batch(K)\n",
    "channel_model = ChannelModel(hidden_dim=num_hidden_units, output_dim=M, normalizer=peak_const, sigma=sigma)\n",
    "key = jax.random.PRNGKey(0) \n",
    "params = channel_model.init(key, x[:1])[\"params\"]\n",
    "channel_model.apply({\"params\":params}, x).shape"
   ]
  },
  {
   "cell_type": "code",
   "execution_count": null,
   "id": "5186f175-be28-43fd-b67d-a02d13027b2a",
   "metadata": {},
   "outputs": [],
   "source": []
  }
 ],
 "metadata": {
  "kernelspec": {
   "display_name": "Python 3 (ipykernel)",
   "language": "python",
   "name": "python3"
  },
  "language_info": {
   "codemirror_mode": {
    "name": "ipython",
    "version": 3
   },
   "file_extension": ".py",
   "mimetype": "text/x-python",
   "name": "python",
   "nbconvert_exporter": "python",
   "pygments_lexer": "ipython3",
   "version": "3.11.6"
  }
 },
 "nbformat": 4,
 "nbformat_minor": 5
}

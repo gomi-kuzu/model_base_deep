{
 "cells": [
  {
   "cell_type": "markdown",
   "id": "4399d1c7-0ccc-416f-9728-1fb76a7351bf",
   "metadata": {},
   "source": [
    "# 自己符号化器で通信システム(AWGN通信路)をモデリングする"
   ]
  },
  {
   "cell_type": "code",
   "execution_count": 145,
   "id": "c7f5985e-9d99-43d5-9715-111a0be928da",
   "metadata": {},
   "outputs": [],
   "source": [
    "import numpy as np\n",
    "import numpy.linalg as LA\n",
    "import jax\n",
    "import jax.numpy as jnp\n",
    "import jax.numpy.linalg as JLA\n",
    "\n",
    "import pandas as pd\n",
    "import matplotlib.pyplot as plt\n",
    "import japanize_matplotlib\n",
    "from jax.example_libraries import optimizers\n",
    "from tqdm.notebook import trange\n",
    "from functools import partial\n",
    "from flax import linen as nn\n",
    "from flax.experimental import nnx\n",
    "from typing import Sequence, Callable, Tuple"
   ]
  },
  {
   "cell_type": "markdown",
   "id": "87387bd3-6f4a-44c2-af46-13c3c385b6d4",
   "metadata": {},
   "source": [
    "### グローバル変数の設定"
   ]
  },
  {
   "cell_type": "code",
   "execution_count": 146,
   "id": "d03d0f6c-eb13-44b6-b4e1-7e1a56091415",
   "metadata": {},
   "outputs": [],
   "source": [
    "M = 32\n",
    "K = 100\n",
    "num_hidden_units = 10 \n",
    "sigma = 0.1"
   ]
  },
  {
   "cell_type": "markdown",
   "id": "a291a464-9045-4a59-b4da-1096df85cc62",
   "metadata": {},
   "source": [
    "### ミニバッチ生成関数"
   ]
  },
  {
   "cell_type": "code",
   "execution_count": 210,
   "id": "54460955-5e08-46f1-a9a4-2ec8322821e4",
   "metadata": {},
   "outputs": [],
   "source": [
    "def mini_batch(K):\n",
    "    r = np.zeros((K, M))\n",
    "    row = np.array(range(K))\n",
    "    col = np.random.randint(0, M, K)\n",
    "    r[row, col] = 1\n",
    "    return jnp.array(r)"
   ]
  },
  {
   "cell_type": "markdown",
   "id": "aecbdac7-7c06-4780-bf8a-f0282e92598e",
   "metadata": {},
   "source": [
    "### エンコーダの定義"
   ]
  },
  {
   "cell_type": "code",
   "execution_count": 148,
   "id": "512ed995-d4f7-4179-aead-ebc73d4ebf2b",
   "metadata": {},
   "outputs": [],
   "source": [
    "class Encoder(nn.Module):\n",
    "    hidden_dim : int\n",
    "    normalizer : Callable\n",
    "    act_fn : Callable = nnx.relu\n",
    "    \n",
    "    @nn.compact\n",
    "    def __call__(self, x):\n",
    "        x = nn.Dense(self.hidden_dim)(x)\n",
    "        x = self.act_fn(x)\n",
    "        x = nn.Dense(2)(x)\n",
    "        x = self.normalizer(x)\n",
    "        return x"
   ]
  },
  {
   "cell_type": "markdown",
   "id": "10f1276d-50d7-4e11-9a49-06f8595b7082",
   "metadata": {},
   "source": [
    "### デコーダの定義"
   ]
  },
  {
   "cell_type": "code",
   "execution_count": 149,
   "id": "54d806e4-2be7-47c9-a8d3-07ff0b106d57",
   "metadata": {},
   "outputs": [],
   "source": [
    "class Decoder(nn.Module):\n",
    "    hidden_dim : int\n",
    "    output_dim : int\n",
    "    act_fn : Callable = nnx.relu\n",
    "    \n",
    "    @nn.compact\n",
    "    def __call__(self, x):\n",
    "        x = nn.Dense(self.hidden_dim)(x)\n",
    "        x = self.act_fn(x)\n",
    "        x = nn.Dense(self.output_dim)(x)\n",
    "        x = nnx.softmax(x)\n",
    "        return x"
   ]
  },
  {
   "cell_type": "markdown",
   "id": "07f4e51d-24dd-434d-9df9-fc04297c884a",
   "metadata": {},
   "source": [
    "### 自己符号化器に基づく通信路モデル"
   ]
  },
  {
   "cell_type": "code",
   "execution_count": 150,
   "id": "73b99e65-d87c-41e9-8a2b-9c6a2f66fe3f",
   "metadata": {},
   "outputs": [],
   "source": [
    "class ChannelModel(nn.Module):\n",
    "    hidden_dim : int\n",
    "    output_dim : int    \n",
    "    normalizer : Callable\n",
    "    sigma : float\n",
    "    act_fn : Callable = nnx.relu\n",
    "\n",
    "    def setup(self):\n",
    "        self.encoder = Encoder(hidden_dim = num_hidden_units, normalizer = self.normalizer)\n",
    "        self.decoder = Decoder(hidden_dim = num_hidden_units, output_dim = self.output_dim)\n",
    "    \n",
    "    @nn.compact\n",
    "    def __call__(self, x):\n",
    "        x = self.encoder(x)\n",
    "        x = x + self.sigma * jnp.array(np.random.randn(K, 2))\n",
    "        x = self.decoder(x)\n",
    "        return x"
   ]
  },
  {
   "cell_type": "markdown",
   "id": "bda448c3-cd60-47d2-be27-fc8bcc35bc46",
   "metadata": {},
   "source": [
    "### ピーク電力制約"
   ]
  },
  {
   "cell_type": "code",
   "execution_count": 151,
   "id": "b328ad24-7d57-4dd8-a7d1-adbf08a4a9f6",
   "metadata": {},
   "outputs": [],
   "source": [
    "def peak_const(x):\n",
    "    return x/jnp.sqrt(max(jnp.sum(x**2, axis=1)))"
   ]
  },
  {
   "cell_type": "markdown",
   "id": "61bd658b-2364-4a1b-ae07-8e0c608e7e34",
   "metadata": {},
   "source": [
    "### パラメタの初期化"
   ]
  },
  {
   "cell_type": "code",
   "execution_count": 152,
   "id": "48a18726-eb5d-4cf5-9de2-a1fed115a82d",
   "metadata": {},
   "outputs": [
    {
     "data": {
      "text/plain": [
       "(100, 32)"
      ]
     },
     "execution_count": 152,
     "metadata": {},
     "output_type": "execute_result"
    }
   ],
   "source": [
    "x = mini_batch(K)\n",
    "channel_model = ChannelModel(hidden_dim=num_hidden_units, output_dim=M, normalizer=peak_const, sigma=sigma)\n",
    "key = jax.random.PRNGKey(0) \n",
    "params = channel_model.init(key, x[:1])[\"params\"]\n",
    "channel_model.apply({\"params\":params}, x).shape"
   ]
  },
  {
   "cell_type": "markdown",
   "id": "131673b4-d634-451b-a95d-18dd5418da88",
   "metadata": {},
   "source": [
    "### 誤差関数の定義"
   ]
  },
  {
   "cell_type": "code",
   "execution_count": 159,
   "id": "371db640-5814-4f09-820b-61888b8c504a",
   "metadata": {},
   "outputs": [],
   "source": [
    "@jax.jit\n",
    "def get_dot(x):\n",
    "    return x @ x.T\n",
    "batch_get_dot = jax.vmap(get_dot, in_axes=0, out_axes=0)"
   ]
  },
  {
   "cell_type": "code",
   "execution_count": 166,
   "id": "a5e620b5-0179-4df7-9adb-9d9a522e7a01",
   "metadata": {},
   "outputs": [],
   "source": [
    "def loss_func(X, params):\n",
    "    pred = channel_model.apply({\"params\":params}, X)\n",
    "    loss = jnp.mean(batch_get_dot(pred - X))\n",
    "    return loss"
   ]
  },
  {
   "cell_type": "markdown",
   "id": "0ff40a06-037e-43a1-be14-2535d6c76599",
   "metadata": {},
   "source": [
    "### 学習プロセス"
   ]
  },
  {
   "cell_type": "code",
   "execution_count": 204,
   "id": "5186f175-be28-43fd-b67d-a02d13027b2a",
   "metadata": {},
   "outputs": [],
   "source": [
    "adam_lr = 1e-2\n",
    "train_itr = 5000\n",
    "\n",
    "opt_init, opt_update, get_params = optimizers.adam(adam_lr)\n",
    "\n",
    "def step(x, step_num, opt_state):\n",
    "    value, grads = jax.value_and_grad(loss_func, argnums=-1)(x, get_params(opt_state))\n",
    "    new_opt_state = opt_update(step_num, grads, opt_state)\n",
    "    return value, new_opt_state\n",
    "\n",
    "def train(params):\n",
    "    opt_state = opt_init(params)\n",
    "    for itr in trange(train_itr, leave=False):\n",
    "        x = mini_batch(K)\n",
    "        value, opt_state = step(x, itr, opt_state)\n",
    "        print(\"\\r\"+\"\\rloss:{}\".format(value), end=\" \")\n",
    "    return get_params(opt_state)"
   ]
  },
  {
   "cell_type": "code",
   "execution_count": 205,
   "id": "65164f75-70ff-4a85-9339-3024f74aebe7",
   "metadata": {},
   "outputs": [
    {
     "data": {
      "application/vnd.jupyter.widget-view+json": {
       "model_id": "",
       "version_major": 2,
       "version_minor": 0
      },
      "text/plain": [
       "  0%|          | 0/5000 [00:00<?, ?it/s]"
      ]
     },
     "metadata": {},
     "output_type": "display_data"
    },
    {
     "name": "stdout",
     "output_type": "stream",
     "text": [
      "loss:0.15292052924633026 "
     ]
    }
   ],
   "source": [
    "trained_params = train(params)"
   ]
  },
  {
   "cell_type": "code",
   "execution_count": 206,
   "id": "7194de59-7592-4428-b23e-c59de78760a9",
   "metadata": {},
   "outputs": [],
   "source": [
    "enc = Encoder(hidden_dim=num_hidden_units, normalizer=peak_const)"
   ]
  },
  {
   "cell_type": "code",
   "execution_count": 207,
   "id": "f836e025-7521-4b8c-9a29-5f3bcf0e4c8a",
   "metadata": {},
   "outputs": [],
   "source": [
    "test_x = mini_batch(K)\n",
    "out_x = enc.apply({\"params\":trained_params[\"encoder\"]},test_x)"
   ]
  },
  {
   "cell_type": "markdown",
   "id": "57939598-edea-4ee2-a853-740added14ff",
   "metadata": {},
   "source": [
    "### 学習された信号点配置の表示"
   ]
  },
  {
   "cell_type": "code",
   "execution_count": 208,
   "id": "3f8b6eb6-6828-4d0b-b308-3868dc7920cd",
   "metadata": {},
   "outputs": [],
   "source": [
    "df = pd.DataFrame()\n",
    "df[\"x1\"] = out_x[:, 0]\n",
    "df[\"x2\"] = out_x[:, 1]"
   ]
  },
  {
   "cell_type": "code",
   "execution_count": 209,
   "id": "f5c403f2-287d-45fd-ac52-0f71d9913ec0",
   "metadata": {},
   "outputs": [
    {
     "data": {
      "image/png": "[encoded data removed]",
      "text/plain": [
       "<Figure size 600x600 with 1 Axes>"
      ]
     },
     "metadata": {},
     "output_type": "display_data"
    }
   ],
   "source": [
    "fig = plt.figure(figsize=(6,6))\n",
    "ax = fig.add_subplot(111)\n",
    "df.plot.scatter(\"x1\", \"x2\", ax = ax)\n",
    "plt.xlim([-1.5, 1.5])\n",
    "plt.ylim([-1.5, 1.5])\n",
    "plt.grid()\n",
    "plt.show()"
   ]
  },
  {
   "cell_type": "code",
   "execution_count": null,
   "id": "c4d3dc45-2375-4ebf-a263-dad9f4674b20",
   "metadata": {},
   "outputs": [],
   "source": []
  }
 ],
 "metadata": {
  "kernelspec": {
   "display_name": "Python 3 (ipykernel)",
   "language": "python",
   "name": "python3"
  },
  "language_info": {
   "codemirror_mode": {
    "name": "ipython",
    "version": 3
   },
   "file_extension": ".py",
   "mimetype": "text/x-python",
   "name": "python",
   "nbconvert_exporter": "python",
   "pygments_lexer": "ipython3",
   "version": "3.11.6"
  }
 },
 "nbformat": 4,
 "nbformat_minor": 5
}

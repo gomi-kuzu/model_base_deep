{
 "cells": [
  {
   "cell_type": "markdown",
   "id": "7c18e36e-ce45-44b4-a2c9-0dc620a67ad4",
   "metadata": {},
   "source": [
    "# 微分可能ビリーフロパゲーション復号法"
   ]
  },
  {
   "cell_type": "code",
   "execution_count": 1,
   "id": "26bc3dfa-5c78-4d13-941d-c9d32e569763",
   "metadata": {},
   "outputs": [],
   "source": [
    "import alist_loader\n",
    "import jax.numpy as jnp"
   ]
  },
  {
   "cell_type": "markdown",
   "id": "f3c142f4-ce91-4c51-bca6-b2400c2203ce",
   "metadata": {},
   "source": [
    "## 本家のリポジトリと同じ.alistファイルを使う\n",
    "- リーダーも適当に自作"
   ]
  },
  {
   "cell_type": "code",
   "execution_count": 2,
   "id": "187e4118-3941-418c-a68f-54b69226e097",
   "metadata": {},
   "outputs": [],
   "source": [
    "filename = \"../../DU-Book/Chapter_5/6.3.alist\""
   ]
  },
  {
   "cell_type": "code",
   "execution_count": 3,
   "id": "73251743-65c3-4bc2-9309-ffadc60ddc47",
   "metadata": {},
   "outputs": [
    {
     "name": "stdout",
     "output_type": "stream",
     "text": [
      "n = 6, m = 3\n",
      "cmap = 2, rmap = 3\n"
     ]
    }
   ],
   "source": [
    "H, U, V = alist_loader.load_alist(filename)"
   ]
  },
  {
   "cell_type": "markdown",
   "id": "4b4916dd-1cae-4965-8851-3e95c7854d01",
   "metadata": {},
   "source": [
    "## 微分可能ビリーフプロパゲーション復号法"
   ]
  },
  {
   "cell_type": "code",
   "execution_count": 4,
   "id": "b6dbd88a-bf3c-44ed-a67d-b3bdf7fa5a8d",
   "metadata": {},
   "outputs": [],
   "source": [
    "esize = U.shape[-1]"
   ]
  },
  {
   "cell_type": "code",
   "execution_count": 5,
   "id": "3063a69c-560e-4ca9-98ea-6944439c486e",
   "metadata": {},
   "outputs": [],
   "source": [
    "var = 0.794328\n",
    "Lambda = 2.0*jnp.array([1.620803, 0.264281, -0.031637, \n",
    "    -0.127654, 0.746347, 1.003543])/var\n",
    "alpha = jnp.zeros(esize) \n",
    "beta = jnp.zeros(esize)"
   ]
  },
  {
   "cell_type": "code",
   "execution_count": 6,
   "id": "cfae1c12-614c-4fbf-a394-b02c4a1fc0f2",
   "metadata": {},
   "outputs": [],
   "source": [
    "def bmod(x):\n",
    "    return x - 2*jnp.floor(x/2)"
   ]
  },
  {
   "cell_type": "code",
   "execution_count": 7,
   "id": "b1097b21-e8d9-4958-9437-2e131c6ba140",
   "metadata": {},
   "outputs": [],
   "source": [
    "for i in range(1,4):\n",
    "    beta = (U.T@U-jnp.eye(len(U.T))) @ alpha + U.T@Lambda\n",
    "    tmp = jnp.exp((V.T@V-jnp.eye(len(U.T))) @ jnp.log(jnp.abs(jnp.tanh(beta/2))))\n",
    "    alpha_abs = 2*jnp.arctanh(tmp)\n",
    "    tmp = 1 -2*V.T @ bmod(V@((-jnp.sign(beta) + 1)/2))\n",
    "    alpha_sign = tmp * jnp.sign(beta)\n",
    "    alpha = alpha_sign * alpha_abs\n",
    "gamma = U@alpha + Lambda"
   ]
  },
  {
   "cell_type": "code",
   "execution_count": 8,
   "id": "e4205155-fe9f-4ba8-b77a-694731a1d41e",
   "metadata": {},
   "outputs": [
    {
     "name": "stdout",
     "output_type": "stream",
     "text": [
      "[4.397419  1.6925247 1.7110999 1.7111    2.083964  2.703277 ]\n"
     ]
    }
   ],
   "source": [
    "print(gamma)"
   ]
  },
  {
   "cell_type": "markdown",
   "id": "94beb5a2-1014-43b1-951b-7019981f9509",
   "metadata": {},
   "source": [
    "## 対数事後確率比の答え合わせ\n",
    "\n",
    "上記の設定において、対数事後確率比をBP復号法により計算すると\n",
    "\n",
    "4.397419\n",
    "1.692525\n",
    "1.711101\n",
    "1.711101\n",
    "2.083965\n",
    "2.703277\n",
    "\n",
    "となるらしい(和田山著「誤り訂正技術の基礎」演習問題14.4)。\n",
    "上記の計算結果は十分な精度で一致している。"
   ]
  },
  {
   "cell_type": "code",
   "execution_count": null,
   "id": "76592b77-7277-438e-bbe7-8aff78b8d7c0",
   "metadata": {},
   "outputs": [],
   "source": []
  }
 ],
 "metadata": {
  "kernelspec": {
   "display_name": "Python 3 (ipykernel)",
   "language": "python",
   "name": "python3"
  },
  "language_info": {
   "codemirror_mode": {
    "name": "ipython",
    "version": 3
   },
   "file_extension": ".py",
   "mimetype": "text/x-python",
   "name": "python",
   "nbconvert_exporter": "python",
   "pygments_lexer": "ipython3",
   "version": "3.11.6"
  }
 },
 "nbformat": 4,
 "nbformat_minor": 5
}

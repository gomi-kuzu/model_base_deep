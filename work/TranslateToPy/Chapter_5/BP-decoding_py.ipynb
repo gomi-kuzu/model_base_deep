{
 "cells": [
  {
   "cell_type": "code",
   "execution_count": 18,
   "id": "26bc3dfa-5c78-4d13-941d-c9d32e569763",
   "metadata": {},
   "outputs": [],
   "source": [
    "import alist_loader\n",
    "import numpy as np\n",
    "import math"
   ]
  },
  {
   "cell_type": "code",
   "execution_count": 9,
   "id": "187e4118-3941-418c-a68f-54b69226e097",
   "metadata": {},
   "outputs": [],
   "source": [
    "filename = \"../../DU-Book/Chapter_5/6.3.alist\""
   ]
  },
  {
   "cell_type": "code",
   "execution_count": 10,
   "id": "73251743-65c3-4bc2-9309-ffadc60ddc47",
   "metadata": {},
   "outputs": [
    {
     "name": "stdout",
     "output_type": "stream",
     "text": [
      "n = 6, m = 3\n",
      "cmap = 2, rmap = 3\n"
     ]
    }
   ],
   "source": [
    "H, U, V = alist_loader.load_alist(filename)"
   ]
  },
  {
   "cell_type": "code",
   "execution_count": 12,
   "id": "b6dbd88a-bf3c-44ed-a67d-b3bdf7fa5a8d",
   "metadata": {},
   "outputs": [],
   "source": [
    "esize = U.shape[-1]"
   ]
  },
  {
   "cell_type": "code",
   "execution_count": 13,
   "id": "b14f272b-d8dd-4c96-9c69-cde5324072cd",
   "metadata": {},
   "outputs": [],
   "source": [
    "var = 0.794328\n",
    "Lambda = 2.0*np.array([1.620803, 0.264281, -0.031637, \n",
    "    -0.127654, 0.746347, 1.003543])/var\n",
    "alpha = np.zeros(esize) \n",
    "beta = np.zeros(esize)"
   ]
  },
  {
   "cell_type": "code",
   "execution_count": 15,
   "id": "dc7681d5-3e40-4623-b88b-caf966fdae83",
   "metadata": {},
   "outputs": [
    {
     "data": {
      "text/plain": [
       "array([0., 0., 0., 0., 0., 0., 0., 0.])"
      ]
     },
     "execution_count": 15,
     "metadata": {},
     "output_type": "execute_result"
    }
   ],
   "source": [
    "alpha"
   ]
  },
  {
   "cell_type": "code",
   "execution_count": 19,
   "id": "6ec79c3b-da97-4818-93f3-aaa4c2897234",
   "metadata": {},
   "outputs": [],
   "source": [
    "def bmod(x):\n",
    "    return x - 2*math.floor(x/2)"
   ]
  },
  {
   "cell_type": "code",
   "execution_count": 20,
   "id": "3b7c1ca3-ab76-409f-bf18-073bf31b05f2",
   "metadata": {},
   "outputs": [
    {
     "data": {
      "text/plain": [
       "1"
      ]
     },
     "execution_count": 20,
     "metadata": {},
     "output_type": "execute_result"
    }
   ],
   "source": [
    "bmod(3)"
   ]
  },
  {
   "cell_type": "code",
   "execution_count": null,
   "id": "fc2c8b26-cfa1-4bcb-a860-41e388427ddc",
   "metadata": {},
   "outputs": [],
   "source": []
  }
 ],
 "metadata": {
  "kernelspec": {
   "display_name": "Python 3 (ipykernel)",
   "language": "python",
   "name": "python3"
  },
  "language_info": {
   "codemirror_mode": {
    "name": "ipython",
    "version": 3
   },
   "file_extension": ".py",
   "mimetype": "text/x-python",
   "name": "python",
   "nbconvert_exporter": "python",
   "pygments_lexer": "ipython3",
   "version": "3.11.6"
  }
 },
 "nbformat": 4,
 "nbformat_minor": 5
}

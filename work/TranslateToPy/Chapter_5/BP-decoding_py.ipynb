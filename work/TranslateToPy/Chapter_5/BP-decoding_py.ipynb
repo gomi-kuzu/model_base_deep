{
 "cells": [
  {
   "cell_type": "code",
   "execution_count": 1,
   "id": "26bc3dfa-5c78-4d13-941d-c9d32e569763",
   "metadata": {},
   "outputs": [],
   "source": [
    "import alist_loader\n",
    "import numpy as np"
   ]
  },
  {
   "cell_type": "code",
   "execution_count": 2,
   "id": "187e4118-3941-418c-a68f-54b69226e097",
   "metadata": {},
   "outputs": [],
   "source": [
    "filename = \"../../DU-Book/Chapter_5/6.3.alist\""
   ]
  },
  {
   "cell_type": "code",
   "execution_count": 3,
   "id": "73251743-65c3-4bc2-9309-ffadc60ddc47",
   "metadata": {},
   "outputs": [
    {
     "name": "stdout",
     "output_type": "stream",
     "text": [
      "n = 6, m = 3\n",
      "cmap = 2, rmap = 3\n"
     ]
    }
   ],
   "source": [
    "H, U, V = alist_loader.load_alist(filename)"
   ]
  },
  {
   "cell_type": "code",
   "execution_count": 4,
   "id": "b6dbd88a-bf3c-44ed-a67d-b3bdf7fa5a8d",
   "metadata": {},
   "outputs": [],
   "source": [
    "esize = U.shape[-1]"
   ]
  },
  {
   "cell_type": "code",
   "execution_count": 5,
   "id": "b14f272b-d8dd-4c96-9c69-cde5324072cd",
   "metadata": {},
   "outputs": [],
   "source": [
    "var = 0.794328\n",
    "Lambda = 2.0*np.array([1.620803, 0.264281, -0.031637, \n",
    "    -0.127654, 0.746347, 1.003543])/var\n",
    "alpha = np.zeros(esize) \n",
    "beta = np.zeros(esize)"
   ]
  },
  {
   "cell_type": "code",
   "execution_count": 6,
   "id": "6ec79c3b-da97-4818-93f3-aaa4c2897234",
   "metadata": {},
   "outputs": [],
   "source": [
    "def bmod(x):\n",
    "    return x - 2*np.floor(x/2)"
   ]
  },
  {
   "cell_type": "code",
   "execution_count": 7,
   "id": "fc2c8b26-cfa1-4bcb-a860-41e388427ddc",
   "metadata": {},
   "outputs": [],
   "source": [
    "for i in range(1,4):\n",
    "    beta = (U.T@U-np.eye(len(U.T))) @ alpha + U.T@Lambda\n",
    "    tmp = np.exp((V.T@V-np.eye(len(U.T))) @ np.log(np.abs(np.tanh(beta/2))))\n",
    "    alpha_abs = 2*np.arctanh(tmp)\n",
    "    tmp = 1 -2*V.T @ bmod(V@((-np.sign(beta) + 1)/2))\n",
    "    alpha_sign = tmp * np.sign(beta)\n",
    "    alpha = alpha_sign * alpha_abs\n",
    "gamma = U@alpha + Lambda\n"
   ]
  },
  {
   "cell_type": "code",
   "execution_count": 8,
   "id": "22c111c1-c86c-4f6a-927f-b8cb49b5b20c",
   "metadata": {},
   "outputs": [
    {
     "name": "stdout",
     "output_type": "stream",
     "text": [
      "[4.39741886 1.69252466 1.7110999  1.7110999  2.08396409 2.70327704]\n"
     ]
    }
   ],
   "source": [
    "print(gamma)"
   ]
  },
  {
   "cell_type": "code",
   "execution_count": null,
   "id": "3063a69c-560e-4ca9-98ea-6944439c486e",
   "metadata": {},
   "outputs": [],
   "source": []
  }
 ],
 "metadata": {
  "kernelspec": {
   "display_name": "Python 3 (ipykernel)",
   "language": "python",
   "name": "python3"
  },
  "language_info": {
   "codemirror_mode": {
    "name": "ipython",
    "version": 3
   },
   "file_extension": ".py",
   "mimetype": "text/x-python",
   "name": "python",
   "nbconvert_exporter": "python",
   "pygments_lexer": "ipython3",
   "version": "3.11.6"
  }
 },
 "nbformat": 4,
 "nbformat_minor": 5
}
